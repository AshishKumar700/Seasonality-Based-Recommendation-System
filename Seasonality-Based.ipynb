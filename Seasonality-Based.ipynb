{
 "cells": [
  {
   "cell_type": "markdown",
   "id": "138c04be",
   "metadata": {},
   "source": [
    "# Seasonality Based Recommender System"
   ]
  },
  {
   "cell_type": "code",
   "execution_count": 1,
   "id": "2c8829dc",
   "metadata": {},
   "outputs": [],
   "source": [
    "import numpy as np\n",
    "import pandas as pd\n",
    "import matplotlib.pyplot as plt\n",
    "import seaborn as sns\n",
    "\n",
    "from sklearn import model_selection\n",
    "\n",
    "\n",
    "import sklearn \n",
    "from sklearn.decomposition import TruncatedSVD\n",
    "from sklearn.neighbors import KNeighborsClassifier\n",
    "from sklearn.neighbors import NearestNeighbors\n",
    "\n",
    "from collections import defaultdict\n",
    "from surprise import SVD\n",
    "from surprise import KNNWithMeans\n",
    "from surprise import Dataset\n",
    "from surprise import accuracy\n",
    "from surprise import Reader\n",
    "from surprise.model_selection import train_test_split\n",
    "import os\n",
    "from sklearn.feature_extraction.text import TfidfVectorizer\n",
    "from sklearn.metrics.pairwise import linear_kernel\n",
    "\n",
    "\n",
    "import warnings\n",
    "warnings.filterwarnings('ignore')\n",
    "\n",
    "%matplotlib inline"
   ]
  },
  {
   "cell_type": "code",
   "execution_count": 2,
   "id": "c3d96dbf",
   "metadata": {},
   "outputs": [],
   "source": [
    "df=pd.read_csv(\"user_purchases.csv\")"
   ]
  },
  {
   "cell_type": "code",
   "execution_count": 3,
   "id": "3bf7e60f",
   "metadata": {},
   "outputs": [
    {
     "data": {
      "text/html": [
       "<div>\n",
       "<style scoped>\n",
       "    .dataframe tbody tr th:only-of-type {\n",
       "        vertical-align: middle;\n",
       "    }\n",
       "\n",
       "    .dataframe tbody tr th {\n",
       "        vertical-align: top;\n",
       "    }\n",
       "\n",
       "    .dataframe thead th {\n",
       "        text-align: right;\n",
       "    }\n",
       "</style>\n",
       "<table border=\"1\" class=\"dataframe\">\n",
       "  <thead>\n",
       "    <tr style=\"text-align: right;\">\n",
       "      <th></th>\n",
       "      <th>user-id</th>\n",
       "      <th>purchase-id</th>\n",
       "      <th>product-id</th>\n",
       "      <th>category</th>\n",
       "      <th>actual_price</th>\n",
       "      <th>discount</th>\n",
       "      <th>timestamp</th>\n",
       "      <th>location</th>\n",
       "      <th>rating</th>\n",
       "      <th>attribute2</th>\n",
       "    </tr>\n",
       "  </thead>\n",
       "  <tbody>\n",
       "    <tr>\n",
       "      <th>0</th>\n",
       "      <td>125</td>\n",
       "      <td>1</td>\n",
       "      <td>67</td>\n",
       "      <td>Toys</td>\n",
       "      <td>592.67</td>\n",
       "      <td>6.59</td>\n",
       "      <td>27-07-2022 01:17</td>\n",
       "      <td>Los Angeles</td>\n",
       "      <td>2</td>\n",
       "      <td>4</td>\n",
       "    </tr>\n",
       "    <tr>\n",
       "      <th>1</th>\n",
       "      <td>422</td>\n",
       "      <td>2</td>\n",
       "      <td>81</td>\n",
       "      <td>Toys</td>\n",
       "      <td>754.43</td>\n",
       "      <td>304.89</td>\n",
       "      <td>02-05-2023 01:17</td>\n",
       "      <td>New York City</td>\n",
       "      <td>2</td>\n",
       "      <td>5</td>\n",
       "    </tr>\n",
       "    <tr>\n",
       "      <th>2</th>\n",
       "      <td>160</td>\n",
       "      <td>3</td>\n",
       "      <td>17</td>\n",
       "      <td>Groceries</td>\n",
       "      <td>437.24</td>\n",
       "      <td>70.77</td>\n",
       "      <td>16-06-2023 01:17</td>\n",
       "      <td>San Francisco</td>\n",
       "      <td>4</td>\n",
       "      <td>5</td>\n",
       "    </tr>\n",
       "    <tr>\n",
       "      <th>3</th>\n",
       "      <td>127</td>\n",
       "      <td>4</td>\n",
       "      <td>67</td>\n",
       "      <td>Sports</td>\n",
       "      <td>837.56</td>\n",
       "      <td>279.76</td>\n",
       "      <td>15-12-2022 01:17</td>\n",
       "      <td>San Francisco</td>\n",
       "      <td>1</td>\n",
       "      <td>2</td>\n",
       "    </tr>\n",
       "    <tr>\n",
       "      <th>4</th>\n",
       "      <td>433</td>\n",
       "      <td>5</td>\n",
       "      <td>27</td>\n",
       "      <td>Electronics</td>\n",
       "      <td>431.13</td>\n",
       "      <td>225.81</td>\n",
       "      <td>30-11-2022 01:17</td>\n",
       "      <td>San Francisco</td>\n",
       "      <td>3</td>\n",
       "      <td>4</td>\n",
       "    </tr>\n",
       "  </tbody>\n",
       "</table>\n",
       "</div>"
      ],
      "text/plain": [
       "   user-id  purchase-id  product-id     category  actual_price  discount  \\\n",
       "0      125            1          67         Toys        592.67      6.59   \n",
       "1      422            2          81         Toys        754.43    304.89   \n",
       "2      160            3          17    Groceries        437.24     70.77   \n",
       "3      127            4          67       Sports        837.56    279.76   \n",
       "4      433            5          27  Electronics        431.13    225.81   \n",
       "\n",
       "          timestamp       location  rating  attribute2  \n",
       "0  27-07-2022 01:17    Los Angeles       2           4  \n",
       "1  02-05-2023 01:17  New York City       2           5  \n",
       "2  16-06-2023 01:17  San Francisco       4           5  \n",
       "3  15-12-2022 01:17  San Francisco       1           2  \n",
       "4  30-11-2022 01:17  San Francisco       3           4  "
      ]
     },
     "execution_count": 3,
     "metadata": {},
     "output_type": "execute_result"
    }
   ],
   "source": [
    "df.head()"
   ]
  },
  {
   "cell_type": "markdown",
   "id": "ee21be36",
   "metadata": {},
   "source": [
    "#### Converting to Date and Time format to easily extract the desired month:"
   ]
  },
  {
   "cell_type": "code",
   "execution_count": 4,
   "id": "7e392f99",
   "metadata": {},
   "outputs": [],
   "source": [
    "df['timestamp'] = pd.to_datetime(df['timestamp'])"
   ]
  },
  {
   "cell_type": "code",
   "execution_count": 5,
   "id": "0bd99795",
   "metadata": {},
   "outputs": [
    {
     "data": {
      "text/html": [
       "<div>\n",
       "<style scoped>\n",
       "    .dataframe tbody tr th:only-of-type {\n",
       "        vertical-align: middle;\n",
       "    }\n",
       "\n",
       "    .dataframe tbody tr th {\n",
       "        vertical-align: top;\n",
       "    }\n",
       "\n",
       "    .dataframe thead th {\n",
       "        text-align: right;\n",
       "    }\n",
       "</style>\n",
       "<table border=\"1\" class=\"dataframe\">\n",
       "  <thead>\n",
       "    <tr style=\"text-align: right;\">\n",
       "      <th></th>\n",
       "      <th>user-id</th>\n",
       "      <th>purchase-id</th>\n",
       "      <th>product-id</th>\n",
       "      <th>category</th>\n",
       "      <th>actual_price</th>\n",
       "      <th>discount</th>\n",
       "      <th>timestamp</th>\n",
       "      <th>location</th>\n",
       "      <th>rating</th>\n",
       "      <th>attribute2</th>\n",
       "    </tr>\n",
       "  </thead>\n",
       "  <tbody>\n",
       "    <tr>\n",
       "      <th>0</th>\n",
       "      <td>125</td>\n",
       "      <td>1</td>\n",
       "      <td>67</td>\n",
       "      <td>Toys</td>\n",
       "      <td>592.67</td>\n",
       "      <td>6.59</td>\n",
       "      <td>2022-07-27 01:17:00</td>\n",
       "      <td>Los Angeles</td>\n",
       "      <td>2</td>\n",
       "      <td>4</td>\n",
       "    </tr>\n",
       "    <tr>\n",
       "      <th>1</th>\n",
       "      <td>422</td>\n",
       "      <td>2</td>\n",
       "      <td>81</td>\n",
       "      <td>Toys</td>\n",
       "      <td>754.43</td>\n",
       "      <td>304.89</td>\n",
       "      <td>2023-02-05 01:17:00</td>\n",
       "      <td>New York City</td>\n",
       "      <td>2</td>\n",
       "      <td>5</td>\n",
       "    </tr>\n",
       "    <tr>\n",
       "      <th>2</th>\n",
       "      <td>160</td>\n",
       "      <td>3</td>\n",
       "      <td>17</td>\n",
       "      <td>Groceries</td>\n",
       "      <td>437.24</td>\n",
       "      <td>70.77</td>\n",
       "      <td>2023-06-16 01:17:00</td>\n",
       "      <td>San Francisco</td>\n",
       "      <td>4</td>\n",
       "      <td>5</td>\n",
       "    </tr>\n",
       "    <tr>\n",
       "      <th>3</th>\n",
       "      <td>127</td>\n",
       "      <td>4</td>\n",
       "      <td>67</td>\n",
       "      <td>Sports</td>\n",
       "      <td>837.56</td>\n",
       "      <td>279.76</td>\n",
       "      <td>2022-12-15 01:17:00</td>\n",
       "      <td>San Francisco</td>\n",
       "      <td>1</td>\n",
       "      <td>2</td>\n",
       "    </tr>\n",
       "    <tr>\n",
       "      <th>4</th>\n",
       "      <td>433</td>\n",
       "      <td>5</td>\n",
       "      <td>27</td>\n",
       "      <td>Electronics</td>\n",
       "      <td>431.13</td>\n",
       "      <td>225.81</td>\n",
       "      <td>2022-11-30 01:17:00</td>\n",
       "      <td>San Francisco</td>\n",
       "      <td>3</td>\n",
       "      <td>4</td>\n",
       "    </tr>\n",
       "  </tbody>\n",
       "</table>\n",
       "</div>"
      ],
      "text/plain": [
       "   user-id  purchase-id  product-id     category  actual_price  discount  \\\n",
       "0      125            1          67         Toys        592.67      6.59   \n",
       "1      422            2          81         Toys        754.43    304.89   \n",
       "2      160            3          17    Groceries        437.24     70.77   \n",
       "3      127            4          67       Sports        837.56    279.76   \n",
       "4      433            5          27  Electronics        431.13    225.81   \n",
       "\n",
       "            timestamp       location  rating  attribute2  \n",
       "0 2022-07-27 01:17:00    Los Angeles       2           4  \n",
       "1 2023-02-05 01:17:00  New York City       2           5  \n",
       "2 2023-06-16 01:17:00  San Francisco       4           5  \n",
       "3 2022-12-15 01:17:00  San Francisco       1           2  \n",
       "4 2022-11-30 01:17:00  San Francisco       3           4  "
      ]
     },
     "execution_count": 5,
     "metadata": {},
     "output_type": "execute_result"
    }
   ],
   "source": [
    "df.head()"
   ]
  },
  {
   "cell_type": "code",
   "execution_count": 6,
   "id": "4a7877ff",
   "metadata": {},
   "outputs": [
    {
     "data": {
      "text/plain": [
       "user-id                  int64\n",
       "purchase-id              int64\n",
       "product-id               int64\n",
       "category                object\n",
       "actual_price           float64\n",
       "discount               float64\n",
       "timestamp       datetime64[ns]\n",
       "location                object\n",
       "rating                   int64\n",
       "attribute2               int64\n",
       "dtype: object"
      ]
     },
     "execution_count": 6,
     "metadata": {},
     "output_type": "execute_result"
    }
   ],
   "source": [
    "df.dtypes"
   ]
  },
  {
   "cell_type": "code",
   "execution_count": 7,
   "id": "a8500752",
   "metadata": {},
   "outputs": [
    {
     "name": "stdout",
     "output_type": "stream",
     "text": [
      "Data set contains \"1000\" number of rows and \"10\" number of columns\n"
     ]
    }
   ],
   "source": [
    "shape_Data = df.shape\n",
    "print('Data set contains \"{x}\" number of rows and \"{y}\" number of columns' .format(x=shape_Data[0],y=shape_Data[1]))"
   ]
  },
  {
   "cell_type": "code",
   "execution_count": 8,
   "id": "26b84aaa",
   "metadata": {},
   "outputs": [
    {
     "data": {
      "text/html": [
       "<div>\n",
       "<style scoped>\n",
       "    .dataframe tbody tr th:only-of-type {\n",
       "        vertical-align: middle;\n",
       "    }\n",
       "\n",
       "    .dataframe tbody tr th {\n",
       "        vertical-align: top;\n",
       "    }\n",
       "\n",
       "    .dataframe thead th {\n",
       "        text-align: right;\n",
       "    }\n",
       "</style>\n",
       "<table border=\"1\" class=\"dataframe\">\n",
       "  <thead>\n",
       "    <tr style=\"text-align: right;\">\n",
       "      <th></th>\n",
       "      <th>count</th>\n",
       "      <th>mean</th>\n",
       "      <th>std</th>\n",
       "      <th>min</th>\n",
       "      <th>25%</th>\n",
       "      <th>50%</th>\n",
       "      <th>75%</th>\n",
       "      <th>max</th>\n",
       "    </tr>\n",
       "  </thead>\n",
       "  <tbody>\n",
       "    <tr>\n",
       "      <th>user-id</th>\n",
       "      <td>1000.0</td>\n",
       "      <td>244.18000</td>\n",
       "      <td>144.778702</td>\n",
       "      <td>2.00</td>\n",
       "      <td>122.00</td>\n",
       "      <td>239.000</td>\n",
       "      <td>369.2500</td>\n",
       "      <td>500.00</td>\n",
       "    </tr>\n",
       "    <tr>\n",
       "      <th>purchase-id</th>\n",
       "      <td>1000.0</td>\n",
       "      <td>500.50000</td>\n",
       "      <td>288.819436</td>\n",
       "      <td>1.00</td>\n",
       "      <td>250.75</td>\n",
       "      <td>500.500</td>\n",
       "      <td>750.2500</td>\n",
       "      <td>1000.00</td>\n",
       "    </tr>\n",
       "    <tr>\n",
       "      <th>product-id</th>\n",
       "      <td>1000.0</td>\n",
       "      <td>49.93300</td>\n",
       "      <td>28.638238</td>\n",
       "      <td>1.00</td>\n",
       "      <td>26.00</td>\n",
       "      <td>49.500</td>\n",
       "      <td>75.0000</td>\n",
       "      <td>100.00</td>\n",
       "    </tr>\n",
       "    <tr>\n",
       "      <th>actual_price</th>\n",
       "      <td>1000.0</td>\n",
       "      <td>495.45157</td>\n",
       "      <td>278.514088</td>\n",
       "      <td>10.87</td>\n",
       "      <td>259.38</td>\n",
       "      <td>494.075</td>\n",
       "      <td>729.7375</td>\n",
       "      <td>998.04</td>\n",
       "    </tr>\n",
       "    <tr>\n",
       "      <th>discount</th>\n",
       "      <td>1000.0</td>\n",
       "      <td>192.04047</td>\n",
       "      <td>169.819648</td>\n",
       "      <td>0.14</td>\n",
       "      <td>54.66</td>\n",
       "      <td>140.235</td>\n",
       "      <td>288.2700</td>\n",
       "      <td>782.50</td>\n",
       "    </tr>\n",
       "    <tr>\n",
       "      <th>rating</th>\n",
       "      <td>1000.0</td>\n",
       "      <td>2.98800</td>\n",
       "      <td>1.422631</td>\n",
       "      <td>1.00</td>\n",
       "      <td>2.00</td>\n",
       "      <td>3.000</td>\n",
       "      <td>4.0000</td>\n",
       "      <td>5.00</td>\n",
       "    </tr>\n",
       "    <tr>\n",
       "      <th>attribute2</th>\n",
       "      <td>1000.0</td>\n",
       "      <td>2.94900</td>\n",
       "      <td>1.402272</td>\n",
       "      <td>1.00</td>\n",
       "      <td>2.00</td>\n",
       "      <td>3.000</td>\n",
       "      <td>4.0000</td>\n",
       "      <td>5.00</td>\n",
       "    </tr>\n",
       "  </tbody>\n",
       "</table>\n",
       "</div>"
      ],
      "text/plain": [
       "               count       mean         std    min     25%      50%       75%  \\\n",
       "user-id       1000.0  244.18000  144.778702   2.00  122.00  239.000  369.2500   \n",
       "purchase-id   1000.0  500.50000  288.819436   1.00  250.75  500.500  750.2500   \n",
       "product-id    1000.0   49.93300   28.638238   1.00   26.00   49.500   75.0000   \n",
       "actual_price  1000.0  495.45157  278.514088  10.87  259.38  494.075  729.7375   \n",
       "discount      1000.0  192.04047  169.819648   0.14   54.66  140.235  288.2700   \n",
       "rating        1000.0    2.98800    1.422631   1.00    2.00    3.000    4.0000   \n",
       "attribute2    1000.0    2.94900    1.402272   1.00    2.00    3.000    4.0000   \n",
       "\n",
       "                  max  \n",
       "user-id        500.00  \n",
       "purchase-id   1000.00  \n",
       "product-id     100.00  \n",
       "actual_price   998.04  \n",
       "discount       782.50  \n",
       "rating           5.00  \n",
       "attribute2       5.00  "
      ]
     },
     "execution_count": 8,
     "metadata": {},
     "output_type": "execute_result"
    }
   ],
   "source": [
    "df.describe().T"
   ]
  },
  {
   "cell_type": "code",
   "execution_count": 9,
   "id": "64b46a86",
   "metadata": {},
   "outputs": [
    {
     "data": {
      "text/plain": [
       "user-id         0\n",
       "purchase-id     0\n",
       "product-id      0\n",
       "category        0\n",
       "actual_price    0\n",
       "discount        0\n",
       "timestamp       0\n",
       "location        0\n",
       "rating          0\n",
       "attribute2      0\n",
       "dtype: int64"
      ]
     },
     "execution_count": 9,
     "metadata": {},
     "output_type": "execute_result"
    }
   ],
   "source": [
    "df.isnull().sum() #Making sure there's no null vales in the dataset"
   ]
  },
  {
   "cell_type": "markdown",
   "id": "acc1047d",
   "metadata": {},
   "source": [
    "#### Checking the rating distributions:"
   ]
  },
  {
   "cell_type": "code",
   "execution_count": 10,
   "id": "7de6e543",
   "metadata": {},
   "outputs": [
    {
     "data": {
      "image/png": "[encoded data removed]",
      "text/plain": [
       "<Figure size 1000x600 with 1 Axes>"
      ]
     },
     "metadata": {},
     "output_type": "display_data"
    }
   ],
   "source": [
    "plt.figure(figsize=(10,6))\n",
    "sns.countplot(x='rating', data=df, palette='winter')\n",
    "plt.xlabel('Rating', fontsize=12)\n",
    "plt.ylabel('Count', fontsize=12)\n",
    "plt.title('Number of Each Rating', fontsize=15)\n",
    "plt.show()"
   ]
  },
  {
   "cell_type": "markdown",
   "id": "81a6bf4d",
   "metadata": {},
   "source": [
    "#### Calculating the number of ratings and mean rating per product:"
   ]
  },
  {
   "cell_type": "code",
   "execution_count": 11,
   "id": "c6b4b0d2",
   "metadata": {},
   "outputs": [],
   "source": [
    "df_rating=pd.DataFrame({'Number of Rating':df.groupby('product-id').count()['rating'], 'Mean Rating':df.groupby('product-id').mean()['rating']})"
   ]
  },
  {
   "cell_type": "code",
   "execution_count": 12,
   "id": "14d5b041",
   "metadata": {},
   "outputs": [
    {
     "data": {
      "text/html": [
       "<div>\n",
       "<style scoped>\n",
       "    .dataframe tbody tr th:only-of-type {\n",
       "        vertical-align: middle;\n",
       "    }\n",
       "\n",
       "    .dataframe tbody tr th {\n",
       "        vertical-align: top;\n",
       "    }\n",
       "\n",
       "    .dataframe thead th {\n",
       "        text-align: right;\n",
       "    }\n",
       "</style>\n",
       "<table border=\"1\" class=\"dataframe\">\n",
       "  <thead>\n",
       "    <tr style=\"text-align: right;\">\n",
       "      <th></th>\n",
       "      <th>Number of Rating</th>\n",
       "      <th>Mean Rating</th>\n",
       "    </tr>\n",
       "    <tr>\n",
       "      <th>product-id</th>\n",
       "      <th></th>\n",
       "      <th></th>\n",
       "    </tr>\n",
       "  </thead>\n",
       "  <tbody>\n",
       "    <tr>\n",
       "      <th>1</th>\n",
       "      <td>8</td>\n",
       "      <td>3.125000</td>\n",
       "    </tr>\n",
       "    <tr>\n",
       "      <th>2</th>\n",
       "      <td>3</td>\n",
       "      <td>3.000000</td>\n",
       "    </tr>\n",
       "    <tr>\n",
       "      <th>3</th>\n",
       "      <td>16</td>\n",
       "      <td>2.500000</td>\n",
       "    </tr>\n",
       "    <tr>\n",
       "      <th>4</th>\n",
       "      <td>7</td>\n",
       "      <td>3.142857</td>\n",
       "    </tr>\n",
       "    <tr>\n",
       "      <th>5</th>\n",
       "      <td>7</td>\n",
       "      <td>2.142857</td>\n",
       "    </tr>\n",
       "  </tbody>\n",
       "</table>\n",
       "</div>"
      ],
      "text/plain": [
       "            Number of Rating  Mean Rating\n",
       "product-id                               \n",
       "1                          8     3.125000\n",
       "2                          3     3.000000\n",
       "3                         16     2.500000\n",
       "4                          7     3.142857\n",
       "5                          7     2.142857"
      ]
     },
     "execution_count": 12,
     "metadata": {},
     "output_type": "execute_result"
    }
   ],
   "source": [
    "df_rating.head()"
   ]
  },
  {
   "cell_type": "code",
   "execution_count": 13,
   "id": "b2f52b5c",
   "metadata": {},
   "outputs": [
    {
     "data": {
      "text/html": [
       "<div>\n",
       "<style scoped>\n",
       "    .dataframe tbody tr th:only-of-type {\n",
       "        vertical-align: middle;\n",
       "    }\n",
       "\n",
       "    .dataframe tbody tr th {\n",
       "        vertical-align: top;\n",
       "    }\n",
       "\n",
       "    .dataframe thead th {\n",
       "        text-align: right;\n",
       "    }\n",
       "</style>\n",
       "<table border=\"1\" class=\"dataframe\">\n",
       "  <thead>\n",
       "    <tr style=\"text-align: right;\">\n",
       "      <th></th>\n",
       "      <th>Number of Rating</th>\n",
       "      <th>Mean Rating</th>\n",
       "    </tr>\n",
       "    <tr>\n",
       "      <th>product-id</th>\n",
       "      <th></th>\n",
       "      <th></th>\n",
       "    </tr>\n",
       "  </thead>\n",
       "  <tbody>\n",
       "    <tr>\n",
       "      <th>96</th>\n",
       "      <td>11</td>\n",
       "      <td>2.909091</td>\n",
       "    </tr>\n",
       "    <tr>\n",
       "      <th>97</th>\n",
       "      <td>10</td>\n",
       "      <td>2.700000</td>\n",
       "    </tr>\n",
       "    <tr>\n",
       "      <th>98</th>\n",
       "      <td>5</td>\n",
       "      <td>2.600000</td>\n",
       "    </tr>\n",
       "    <tr>\n",
       "      <th>99</th>\n",
       "      <td>15</td>\n",
       "      <td>3.000000</td>\n",
       "    </tr>\n",
       "    <tr>\n",
       "      <th>100</th>\n",
       "      <td>8</td>\n",
       "      <td>2.375000</td>\n",
       "    </tr>\n",
       "  </tbody>\n",
       "</table>\n",
       "</div>"
      ],
      "text/plain": [
       "            Number of Rating  Mean Rating\n",
       "product-id                               \n",
       "96                        11     2.909091\n",
       "97                        10     2.700000\n",
       "98                         5     2.600000\n",
       "99                        15     3.000000\n",
       "100                        8     2.375000"
      ]
     },
     "execution_count": 13,
     "metadata": {},
     "output_type": "execute_result"
    }
   ],
   "source": [
    "df_rating.tail()"
   ]
  },
  {
   "cell_type": "code",
   "execution_count": 14,
   "id": "084de2f4",
   "metadata": {},
   "outputs": [
    {
     "data": {
      "image/png": "[encoded data removed]",
      "text/plain": [
       "<Figure size 1800x600 with 2 Axes>"
      ]
     },
     "metadata": {},
     "output_type": "display_data"
    }
   ],
   "source": [
    "plt.figure(figsize=(18,6))\n",
    "\n",
    "plt.subplot(1,2,1)\n",
    "plt.hist(x='Number of Rating',data=df_rating,bins=30,color='teal')\n",
    "plt.title('Distribution of Number of Rating', fontsize=15)\n",
    "plt.xlabel('Number of Rating', fontsize=12)\n",
    "plt.ylabel('Frequency', fontsize=12)\n",
    "\n",
    "plt.subplot(1,2,2)\n",
    "plt.hist(x='Mean Rating',data=df_rating,bins=30, color='slateblue')\n",
    "plt.title('Distribution of Mean Rating', fontsize=15)\n",
    "plt.xlabel('Mean Rating', fontsize=12)\n",
    "plt.yticks([])\n",
    "plt.show()"
   ]
  },
  {
   "cell_type": "code",
   "execution_count": 15,
   "id": "13f999fa",
   "metadata": {},
   "outputs": [
    {
     "data": {
      "text/plain": [
       "<Figure size 800x600 with 0 Axes>"
      ]
     },
     "metadata": {},
     "output_type": "display_data"
    },
    {
     "data": {
      "image/png": "[encoded data removed]",
      "text/plain": [
       "<Figure size 700x700 with 3 Axes>"
      ]
     },
     "metadata": {},
     "output_type": "display_data"
    }
   ],
   "source": [
    "plt.figure(figsize=(8,6))\n",
    "sns.jointplot(x='Number of Rating', y='Mean Rating',data=df_rating,color='g', height=7)\n",
    "plt.suptitle('Mean Rating Versus Number of Rating', fontsize=15, y=0.92)\n",
    "\n",
    "plt.show()"
   ]
  },
  {
   "cell_type": "code",
   "execution_count": 16,
   "id": "c1cf6a90",
   "metadata": {},
   "outputs": [
    {
     "data": {
      "text/plain": [
       "2.9893887836020188"
      ]
     },
     "execution_count": 16,
     "metadata": {},
     "output_type": "execute_result"
    }
   ],
   "source": [
    "df_rating['Mean Rating'].mean()"
   ]
  },
  {
   "cell_type": "code",
   "execution_count": 17,
   "id": "564d149f",
   "metadata": {},
   "outputs": [
    {
     "data": {
      "text/plain": [
       "14.0"
      ]
     },
     "execution_count": 17,
     "metadata": {},
     "output_type": "execute_result"
    }
   ],
   "source": [
    "df_rating['Number of Rating'].quantile(q=0.9)"
   ]
  },
  {
   "cell_type": "code",
   "execution_count": 18,
   "id": "bb321548",
   "metadata": {},
   "outputs": [],
   "source": [
    "df_filtered=df_rating[df_rating['Number of Rating']>df_rating['Number of Rating'].quantile(q=0.9)]"
   ]
  },
  {
   "cell_type": "code",
   "execution_count": 19,
   "id": "b75d4b55",
   "metadata": {},
   "outputs": [
    {
     "data": {
      "text/html": [
       "<div>\n",
       "<style scoped>\n",
       "    .dataframe tbody tr th:only-of-type {\n",
       "        vertical-align: middle;\n",
       "    }\n",
       "\n",
       "    .dataframe tbody tr th {\n",
       "        vertical-align: top;\n",
       "    }\n",
       "\n",
       "    .dataframe thead th {\n",
       "        text-align: right;\n",
       "    }\n",
       "</style>\n",
       "<table border=\"1\" class=\"dataframe\">\n",
       "  <thead>\n",
       "    <tr style=\"text-align: right;\">\n",
       "      <th></th>\n",
       "      <th>Number of Rating</th>\n",
       "      <th>Mean Rating</th>\n",
       "    </tr>\n",
       "    <tr>\n",
       "      <th>product-id</th>\n",
       "      <th></th>\n",
       "      <th></th>\n",
       "    </tr>\n",
       "  </thead>\n",
       "  <tbody>\n",
       "    <tr>\n",
       "      <th>3</th>\n",
       "      <td>16</td>\n",
       "      <td>2.500000</td>\n",
       "    </tr>\n",
       "    <tr>\n",
       "      <th>9</th>\n",
       "      <td>17</td>\n",
       "      <td>2.882353</td>\n",
       "    </tr>\n",
       "    <tr>\n",
       "      <th>10</th>\n",
       "      <td>16</td>\n",
       "      <td>3.250000</td>\n",
       "    </tr>\n",
       "    <tr>\n",
       "      <th>12</th>\n",
       "      <td>15</td>\n",
       "      <td>3.066667</td>\n",
       "    </tr>\n",
       "    <tr>\n",
       "      <th>46</th>\n",
       "      <td>15</td>\n",
       "      <td>2.933333</td>\n",
       "    </tr>\n",
       "  </tbody>\n",
       "</table>\n",
       "</div>"
      ],
      "text/plain": [
       "            Number of Rating  Mean Rating\n",
       "product-id                               \n",
       "3                         16     2.500000\n",
       "9                         17     2.882353\n",
       "10                        16     3.250000\n",
       "12                        15     3.066667\n",
       "46                        15     2.933333"
      ]
     },
     "execution_count": 19,
     "metadata": {},
     "output_type": "execute_result"
    }
   ],
   "source": [
    "df_filtered.head()"
   ]
  },
  {
   "cell_type": "code",
   "execution_count": 20,
   "id": "7d3193f1",
   "metadata": {},
   "outputs": [
    {
     "data": {
      "text/plain": [
       "(8, 2)"
      ]
     },
     "execution_count": 20,
     "metadata": {},
     "output_type": "execute_result"
    }
   ],
   "source": [
    "df_filtered.shape"
   ]
  },
  {
   "cell_type": "markdown",
   "id": "8b3799cf",
   "metadata": {},
   "source": [
    "# Recommend Clothing Products Based on the Month"
   ]
  },
  {
   "cell_type": "code",
   "execution_count": 21,
   "id": "36e63d8f",
   "metadata": {},
   "outputs": [],
   "source": [
    "from surprise import SVD\n",
    "from surprise import Dataset\n",
    "from surprise import Reader\n",
    "from surprise.model_selection import train_test_split"
   ]
  },
  {
   "cell_type": "code",
   "execution_count": 27,
   "id": "73e4f33c",
   "metadata": {},
   "outputs": [],
   "source": [
    "reader = Reader(rating_scale=(1, 5))\n",
    "data = Dataset.load_from_df(df[['user-id', 'product-id', 'actual_price']], reader)"
   ]
  },
  {
   "cell_type": "code",
   "execution_count": 28,
   "id": "c8fd40c9",
   "metadata": {},
   "outputs": [],
   "source": [
    "trainset, testset = train_test_split(data, test_size=0.2)"
   ]
  },
  {
   "cell_type": "code",
   "execution_count": 29,
   "id": "bb54387a",
   "metadata": {},
   "outputs": [
    {
     "data": {
      "text/plain": [
       "<surprise.prediction_algorithms.matrix_factorization.SVD at 0x25ed46683d0>"
      ]
     },
     "execution_count": 29,
     "metadata": {},
     "output_type": "execute_result"
    }
   ],
   "source": [
    "algo = SVD()\n",
    "algo.fit(trainset)"
   ]
  },
  {
   "cell_type": "code",
   "execution_count": 30,
   "id": "0d5c8488",
   "metadata": {},
   "outputs": [],
   "source": [
    "def recommend_products(user_id, target_month, category='Clothing', num_recommendations=10):\n",
    "    # Filter data for the target month/season and category\n",
    "    target_data = df[(df['timestamp'].dt.month == target_month) & (df['category'] == category)]\n",
    "\n",
    "    # Create a list of unique product IDs\n",
    "    product_ids = target_data['product-id'].unique()\n",
    "\n",
    "    # Create a list of tuples containing (product_id, predicted_rating) for the user\n",
    "    predictions = [(product_id, algo.predict(user_id, product_id).est) for product_id in product_ids]\n",
    "\n",
    "    # Sort the predictions based on the predicted rating\n",
    "    predictions.sort(key=lambda x: x[1], reverse=True)\n",
    "\n",
    "    # Get the top N recommended product IDs\n",
    "    top_product_ids = [product_id for product_id, _ in predictions[:num_recommendations]]\n",
    "\n",
    "    return top_product_ids"
   ]
  },
  {
   "cell_type": "markdown",
   "id": "0b928fd6",
   "metadata": {},
   "source": [
    "#### In this code, we use the Surprise library, which provides a high-level interface for building and evaluating recommendation systems. We convert our dataset into Surprise Dataset format, split the data into train and test sets, and train the SVD algorithm on the trainset. The recommend_products function filters the dataset based on the target month/season and predicts ratings for the user's interaction with each product. The products are then sorted based on the predicted rating, and the top N product IDs are returned as recommendations."
   ]
  },
  {
   "cell_type": "markdown",
   "id": "f6524d7d",
   "metadata": {},
   "source": [
    "#### Usage:\n",
    "#### Change the \"num_recommendations\" variable for desired number of recommendations in the \"recommend_products\" function arguments"
   ]
  },
  {
   "cell_type": "code",
   "execution_count": 31,
   "id": "51cca9e3",
   "metadata": {},
   "outputs": [
    {
     "name": "stdout",
     "output_type": "stream",
     "text": [
      "Recommended products: [62, 77, 73, 53, 90, 8, 96, 1, 71, 30]\n"
     ]
    }
   ],
   "source": [
    "user_id = 433 #User must input a user id and a month\n",
    "target_month = 7\n",
    "recommended_products = recommend_products(user_id, target_month)\n",
    "print(\"Recommended products:\", recommended_products)"
   ]
  },
  {
   "cell_type": "markdown",
   "id": "7a5122ca",
   "metadata": {},
   "source": [
    "# Recommend Clothing Products Based on the Month by considering the rating factor "
   ]
  },
  {
   "cell_type": "code",
   "execution_count": 32,
   "id": "8e91d3dd",
   "metadata": {},
   "outputs": [],
   "source": [
    "# Function to recommend products based on the festive season, category, and rating threshold using collaborative filtering\n",
    "def recommend_products(user_id, target_month, category='Clothing', rating_threshold=1, average_rating_threshold=2, num_recommendations=2):\n",
    "    # Filter data for the target month and category\n",
    "    target_data = df[(df['category'] == category) & (df['timestamp'].dt.month == target_month)]\n",
    "\n",
    "    # Calculate the number of ratings for each product\n",
    "    product_ratings_count = target_data['product-id'].value_counts()\n",
    "\n",
    "    # Filter out products with ratings below the threshold\n",
    "    target_data = target_data[target_data['product-id'].isin(product_ratings_count[product_ratings_count >= rating_threshold].index)]\n",
    "\n",
    "    # Calculate the average rating for each product\n",
    "    product_avg_ratings = target_data.groupby('product-id')['rating'].mean()\n",
    "\n",
    "    # Filter out products with average rating below the threshold\n",
    "    target_data = target_data[target_data['product-id'].isin(product_avg_ratings[product_avg_ratings >= average_rating_threshold].index)]\n",
    "\n",
    "    # Create a pivot table with user-item interactions\n",
    "    pivot_table = target_data.pivot_table(index='user-id', columns='product-id', values='rating', fill_value=0)\n",
    "\n",
    "    # Get the list of qualified users\n",
    "    qualified_users = pivot_table.index[pivot_table.sum(axis=1) >= num_recommendations]\n",
    "\n",
    "    # Check if the user exists in the pivot table\n",
    "    if user_id not in qualified_users:\n",
    "        print(f\"User with ID {user_id} does not have enough data for recommendations.\")\n",
    "        print(\"Qualified Users:\")\n",
    "        print(qualified_users)\n",
    "        return []\n",
    "\n",
    "    # Fit k-nearest neighbors model\n",
    "    model = NearestNeighbors(metric='cosine', algorithm='brute')\n",
    "    model.fit(pivot_table.values)\n",
    "\n",
    "    # Find the index of the target user\n",
    "    target_user_index = pivot_table.index.get_loc(user_id)\n",
    "\n",
    "    # Find the k nearest neighbors\n",
    "    distances, indices = model.kneighbors(pivot_table.iloc[target_user_index, :].values.reshape(1, -1), n_neighbors=num_recommendations)\n",
    "\n",
    "    # Get the product recommendations from the nearest neighbors\n",
    "    recommendations = []\n",
    "    for index in indices.flatten():\n",
    "        user = pivot_table.index[index]\n",
    "        products = pivot_table.loc[user, :]\n",
    "        top_product = products.idxmax()\n",
    "        recommendations.append(top_product)\n",
    "\n",
    "    return recommendations"
   ]
  },
  {
   "cell_type": "markdown",
   "id": "48cb7b97",
   "metadata": {},
   "source": [
    "#### In this code, the recommend_products function takes additional parameters for the rating threshold (rating_threshold) and the average rating threshold (average_rating_threshold). It first filters out the products that do not meet the minimum rating count requirement (rating_threshold). Then, it calculates the average rating for each product and filters out the products that have an average rating below the specified threshold (average_rating_threshold). The collaborative filtering process remains the same as before."
   ]
  },
  {
   "cell_type": "markdown",
   "id": "2b8a9306",
   "metadata": {},
   "source": [
    "#### Usage:"
   ]
  },
  {
   "cell_type": "code",
   "execution_count": 33,
   "id": "f39ece0f",
   "metadata": {},
   "outputs": [
    {
     "name": "stdout",
     "output_type": "stream",
     "text": [
      "Recommended products: [77, 8]\n"
     ]
    }
   ],
   "source": [
    "user_id = 381\n",
    "target_month = 7  # July\n",
    "recommended_products = recommend_products(user_id, target_month)\n",
    "print(\"Recommended products:\", recommended_products)"
   ]
  },
  {
   "cell_type": "markdown",
   "id": "86a031b2",
   "metadata": {},
   "source": [
    "# On Amazon Dataset"
   ]
  },
  {
   "cell_type": "code",
   "execution_count": 34,
   "id": "508d9493",
   "metadata": {},
   "outputs": [],
   "source": [
    "column_names=['userId','productId','rating','timestamp']\n",
    "df2=pd.read_csv('ratings_Electronics (1).csv',names=column_names)"
   ]
  },
  {
   "cell_type": "code",
   "execution_count": 35,
   "id": "1d8f1039",
   "metadata": {},
   "outputs": [],
   "source": [
    "import datetime"
   ]
  },
  {
   "cell_type": "code",
   "execution_count": 36,
   "id": "0a661592",
   "metadata": {},
   "outputs": [],
   "source": [
    "df2['timestamp'] = pd.to_datetime(df2['timestamp'], unit='s')\n",
    "df2['timestamp'] = df2['timestamp'].dt.strftime('%d/%m/%Y')"
   ]
  },
  {
   "cell_type": "code",
   "execution_count": 37,
   "id": "eec58dfd",
   "metadata": {},
   "outputs": [
    {
     "data": {
      "text/html": [
       "<div>\n",
       "<style scoped>\n",
       "    .dataframe tbody tr th:only-of-type {\n",
       "        vertical-align: middle;\n",
       "    }\n",
       "\n",
       "    .dataframe tbody tr th {\n",
       "        vertical-align: top;\n",
       "    }\n",
       "\n",
       "    .dataframe thead th {\n",
       "        text-align: right;\n",
       "    }\n",
       "</style>\n",
       "<table border=\"1\" class=\"dataframe\">\n",
       "  <thead>\n",
       "    <tr style=\"text-align: right;\">\n",
       "      <th></th>\n",
       "      <th>userId</th>\n",
       "      <th>productId</th>\n",
       "      <th>rating</th>\n",
       "      <th>timestamp</th>\n",
       "    </tr>\n",
       "  </thead>\n",
       "  <tbody>\n",
       "    <tr>\n",
       "      <th>0</th>\n",
       "      <td>AKM1MP6P0OYPR</td>\n",
       "      <td>0132793040</td>\n",
       "      <td>5.0</td>\n",
       "      <td>13/04/2013</td>\n",
       "    </tr>\n",
       "    <tr>\n",
       "      <th>1</th>\n",
       "      <td>A2CX7LUOHB2NDG</td>\n",
       "      <td>0321732944</td>\n",
       "      <td>5.0</td>\n",
       "      <td>01/07/2012</td>\n",
       "    </tr>\n",
       "    <tr>\n",
       "      <th>2</th>\n",
       "      <td>A2NWSAGRHCP8N5</td>\n",
       "      <td>0439886341</td>\n",
       "      <td>1.0</td>\n",
       "      <td>29/04/2013</td>\n",
       "    </tr>\n",
       "    <tr>\n",
       "      <th>3</th>\n",
       "      <td>A2WNBOD3WNDNKT</td>\n",
       "      <td>0439886341</td>\n",
       "      <td>3.0</td>\n",
       "      <td>22/07/2013</td>\n",
       "    </tr>\n",
       "    <tr>\n",
       "      <th>4</th>\n",
       "      <td>A1GI0U4ZRJA8WN</td>\n",
       "      <td>0439886341</td>\n",
       "      <td>1.0</td>\n",
       "      <td>18/04/2012</td>\n",
       "    </tr>\n",
       "  </tbody>\n",
       "</table>\n",
       "</div>"
      ],
      "text/plain": [
       "           userId   productId  rating   timestamp\n",
       "0   AKM1MP6P0OYPR  0132793040     5.0  13/04/2013\n",
       "1  A2CX7LUOHB2NDG  0321732944     5.0  01/07/2012\n",
       "2  A2NWSAGRHCP8N5  0439886341     1.0  29/04/2013\n",
       "3  A2WNBOD3WNDNKT  0439886341     3.0  22/07/2013\n",
       "4  A1GI0U4ZRJA8WN  0439886341     1.0  18/04/2012"
      ]
     },
     "execution_count": 37,
     "metadata": {},
     "output_type": "execute_result"
    }
   ],
   "source": [
    "df2.head()"
   ]
  },
  {
   "cell_type": "code",
   "execution_count": 38,
   "id": "018960ce",
   "metadata": {},
   "outputs": [],
   "source": [
    "df2_rating=pd.DataFrame({'Number of Rating':df2.groupby('productId').count()['rating'], 'Mean Rating':df2.groupby('productId').mean()['rating']})"
   ]
  },
  {
   "cell_type": "code",
   "execution_count": 39,
   "id": "d5093ff0",
   "metadata": {},
   "outputs": [
    {
     "data": {
      "text/html": [
       "<div>\n",
       "<style scoped>\n",
       "    .dataframe tbody tr th:only-of-type {\n",
       "        vertical-align: middle;\n",
       "    }\n",
       "\n",
       "    .dataframe tbody tr th {\n",
       "        vertical-align: top;\n",
       "    }\n",
       "\n",
       "    .dataframe thead th {\n",
       "        text-align: right;\n",
       "    }\n",
       "</style>\n",
       "<table border=\"1\" class=\"dataframe\">\n",
       "  <thead>\n",
       "    <tr style=\"text-align: right;\">\n",
       "      <th></th>\n",
       "      <th>Number of Rating</th>\n",
       "      <th>Mean Rating</th>\n",
       "    </tr>\n",
       "    <tr>\n",
       "      <th>productId</th>\n",
       "      <th></th>\n",
       "      <th></th>\n",
       "    </tr>\n",
       "  </thead>\n",
       "  <tbody>\n",
       "    <tr>\n",
       "      <th>0132793040</th>\n",
       "      <td>1</td>\n",
       "      <td>5.000000</td>\n",
       "    </tr>\n",
       "    <tr>\n",
       "      <th>0321732944</th>\n",
       "      <td>1</td>\n",
       "      <td>5.000000</td>\n",
       "    </tr>\n",
       "    <tr>\n",
       "      <th>0439886341</th>\n",
       "      <td>3</td>\n",
       "      <td>1.666667</td>\n",
       "    </tr>\n",
       "    <tr>\n",
       "      <th>0511189877</th>\n",
       "      <td>6</td>\n",
       "      <td>4.500000</td>\n",
       "    </tr>\n",
       "    <tr>\n",
       "      <th>0528881469</th>\n",
       "      <td>27</td>\n",
       "      <td>2.851852</td>\n",
       "    </tr>\n",
       "  </tbody>\n",
       "</table>\n",
       "</div>"
      ],
      "text/plain": [
       "            Number of Rating  Mean Rating\n",
       "productId                                \n",
       "0132793040                 1     5.000000\n",
       "0321732944                 1     5.000000\n",
       "0439886341                 3     1.666667\n",
       "0511189877                 6     4.500000\n",
       "0528881469                27     2.851852"
      ]
     },
     "execution_count": 39,
     "metadata": {},
     "output_type": "execute_result"
    }
   ],
   "source": [
    "df2_rating.head()"
   ]
  },
  {
   "cell_type": "code",
   "execution_count": 40,
   "id": "56b3532f",
   "metadata": {},
   "outputs": [
    {
     "data": {
      "image/png": "[encoded data removed]",
      "text/plain": [
       "<Figure size 1800x600 with 2 Axes>"
      ]
     },
     "metadata": {},
     "output_type": "display_data"
    }
   ],
   "source": [
    "plt.figure(figsize=(18,6))\n",
    "\n",
    "plt.subplot(1,2,1)\n",
    "plt.hist(x='Number of Rating',data=df2_rating,bins=30,color='teal')\n",
    "plt.title('Distribution of Number of Rating', fontsize=15)\n",
    "plt.xlabel('Number of Rating', fontsize=12)\n",
    "plt.ylabel('Frequency', fontsize=12)\n",
    "\n",
    "plt.subplot(1,2,2)\n",
    "plt.hist(x='Mean Rating',data=df2_rating,bins=30, color='slateblue')\n",
    "plt.title('Distribution of Mean Rating', fontsize=15)\n",
    "plt.xlabel('Mean Rating', fontsize=12)\n",
    "plt.yticks([])\n",
    "plt.show()"
   ]
  },
  {
   "cell_type": "code",
   "execution_count": 41,
   "id": "7adcb198",
   "metadata": {},
   "outputs": [
    {
     "data": {
      "text/plain": [
       "<Figure size 800x600 with 0 Axes>"
      ]
     },
     "metadata": {},
     "output_type": "display_data"
    },
    {
     "data": {
      "image/png": "[encoded data removed]",
      "text/plain": [
       "<Figure size 700x700 with 3 Axes>"
      ]
     },
     "metadata": {},
     "output_type": "display_data"
    }
   ],
   "source": [
    "plt.figure(figsize=(8,6))\n",
    "sns.jointplot(x='Number of Rating', y='Mean Rating',data=df2_rating,color='g', height=7)\n",
    "plt.suptitle('Mean Rating Versus Number of Rating', fontsize=15, y=0.92)\n",
    "\n",
    "plt.show()"
   ]
  },
  {
   "cell_type": "code",
   "execution_count": 38,
   "id": "8aa2b345",
   "metadata": {},
   "outputs": [
    {
     "data": {
      "text/plain": [
       "3.889700263013201"
      ]
     },
     "execution_count": 38,
     "metadata": {},
     "output_type": "execute_result"
    }
   ],
   "source": [
    "df2_rating['Mean Rating'].mean()"
   ]
  },
  {
   "cell_type": "code",
   "execution_count": 39,
   "id": "f249a229",
   "metadata": {},
   "outputs": [
    {
     "data": {
      "text/plain": [
       "25.0"
      ]
     },
     "execution_count": 39,
     "metadata": {},
     "output_type": "execute_result"
    }
   ],
   "source": [
    "df2_rating['Number of Rating'].quantile(q=0.9)"
   ]
  },
  {
   "cell_type": "code",
   "execution_count": 40,
   "id": "15f33e8c",
   "metadata": {},
   "outputs": [],
   "source": [
    "df2['timestamp'] = pd.to_datetime(df2['timestamp'])"
   ]
  },
  {
   "cell_type": "code",
   "execution_count": 41,
   "id": "5a0ecc0a",
   "metadata": {},
   "outputs": [
    {
     "data": {
      "text/plain": [
       "userId               object\n",
       "productId            object\n",
       "rating              float64\n",
       "timestamp    datetime64[ns]\n",
       "dtype: object"
      ]
     },
     "execution_count": 41,
     "metadata": {},
     "output_type": "execute_result"
    }
   ],
   "source": [
    "df2.dtypes"
   ]
  },
  {
   "cell_type": "code",
   "execution_count": 42,
   "id": "cd78df8b",
   "metadata": {},
   "outputs": [
    {
     "data": {
      "text/html": [
       "<div>\n",
       "<style scoped>\n",
       "    .dataframe tbody tr th:only-of-type {\n",
       "        vertical-align: middle;\n",
       "    }\n",
       "\n",
       "    .dataframe tbody tr th {\n",
       "        vertical-align: top;\n",
       "    }\n",
       "\n",
       "    .dataframe thead th {\n",
       "        text-align: right;\n",
       "    }\n",
       "</style>\n",
       "<table border=\"1\" class=\"dataframe\">\n",
       "  <thead>\n",
       "    <tr style=\"text-align: right;\">\n",
       "      <th></th>\n",
       "      <th>userId</th>\n",
       "      <th>productId</th>\n",
       "      <th>rating</th>\n",
       "      <th>timestamp</th>\n",
       "    </tr>\n",
       "  </thead>\n",
       "  <tbody>\n",
       "    <tr>\n",
       "      <th>0</th>\n",
       "      <td>AKM1MP6P0OYPR</td>\n",
       "      <td>0132793040</td>\n",
       "      <td>5.0</td>\n",
       "      <td>2013-04-13</td>\n",
       "    </tr>\n",
       "    <tr>\n",
       "      <th>1</th>\n",
       "      <td>A2CX7LUOHB2NDG</td>\n",
       "      <td>0321732944</td>\n",
       "      <td>5.0</td>\n",
       "      <td>2012-01-07</td>\n",
       "    </tr>\n",
       "    <tr>\n",
       "      <th>2</th>\n",
       "      <td>A2NWSAGRHCP8N5</td>\n",
       "      <td>0439886341</td>\n",
       "      <td>1.0</td>\n",
       "      <td>2013-04-29</td>\n",
       "    </tr>\n",
       "    <tr>\n",
       "      <th>3</th>\n",
       "      <td>A2WNBOD3WNDNKT</td>\n",
       "      <td>0439886341</td>\n",
       "      <td>3.0</td>\n",
       "      <td>2013-07-22</td>\n",
       "    </tr>\n",
       "    <tr>\n",
       "      <th>4</th>\n",
       "      <td>A1GI0U4ZRJA8WN</td>\n",
       "      <td>0439886341</td>\n",
       "      <td>1.0</td>\n",
       "      <td>2012-04-18</td>\n",
       "    </tr>\n",
       "  </tbody>\n",
       "</table>\n",
       "</div>"
      ],
      "text/plain": [
       "           userId   productId  rating  timestamp\n",
       "0   AKM1MP6P0OYPR  0132793040     5.0 2013-04-13\n",
       "1  A2CX7LUOHB2NDG  0321732944     5.0 2012-01-07\n",
       "2  A2NWSAGRHCP8N5  0439886341     1.0 2013-04-29\n",
       "3  A2WNBOD3WNDNKT  0439886341     3.0 2013-07-22\n",
       "4  A1GI0U4ZRJA8WN  0439886341     1.0 2012-04-18"
      ]
     },
     "execution_count": 42,
     "metadata": {},
     "output_type": "execute_result"
    }
   ],
   "source": [
    "df2.head()"
   ]
  },
  {
   "cell_type": "code",
   "execution_count": 43,
   "id": "bd3232ac",
   "metadata": {},
   "outputs": [],
   "source": [
    "def recommend_products(user_id, target_month, rating_threshold=10, average_rating_threshold=3, num_recommendations=10):\n",
    "    # Filter data for the target month\n",
    "    target_data = df2[df2['timestamp'].dt.month == target_month]\n",
    "\n",
    "    # Calculate the number of ratings for each user\n",
    "    user_ratings_count = target_data['userId'].value_counts()\n",
    "\n",
    "    # Filter out users with ratings below the threshold\n",
    "    target_data = target_data[target_data['userId'].isin(user_ratings_count[user_ratings_count >= rating_threshold].index)]\n",
    "\n",
    "    # Calculate the average rating for each user\n",
    "    user_avg_ratings = target_data.groupby('userId')['rating'].mean()\n",
    "\n",
    "    # Filter out users with average rating below the threshold\n",
    "    target_data = target_data[target_data['userId'].isin(user_avg_ratings[user_avg_ratings >= average_rating_threshold].index)]\n",
    "\n",
    "    # Create a pivot table with user-item interactions\n",
    "    pivot_table = target_data.pivot_table(index='userId', columns='productId', values='rating', fill_value=0)\n",
    "\n",
    "    # Check if the target user exists in the pivot table\n",
    "    if user_id not in pivot_table.index:\n",
    "        print(f\"User with ID {user_id} does not have enough data for recommendations.\")\n",
    "        qualified_users = pivot_table.index.tolist()\n",
    "        print(\"Qualified Users:\")\n",
    "        print(qualified_users)\n",
    "        return []\n",
    "\n",
    "    # Fit k-nearest neighbors model\n",
    "    model = NearestNeighbors(metric='cosine', algorithm='brute')\n",
    "    \n",
    "    try:\n",
    "        model.fit(pivot_table.values)\n",
    "    except ValueError as e:\n",
    "        print(\"ValueError: {}\".format(str(e)))\n",
    "        qualified_users = pivot_table.index.tolist()\n",
    "        print(\"Qualified Users:\")\n",
    "        print(qualified_users)\n",
    "        return []\n",
    "\n",
    "    # Find the index of the target user\n",
    "    target_user_index = pivot_table.index.get_loc(user_id)\n",
    "\n",
    "    # Find the k nearest neighbors\n",
    "    distances, indices = model.kneighbors(pivot_table.iloc[target_user_index, :].values.reshape(1, -1), n_neighbors=num_recommendations)\n",
    "\n",
    "    # Get the product recommendations from the nearest neighbors\n",
    "    recommendations = []\n",
    "    for index in indices.flatten():\n",
    "        user = pivot_table.index[index]\n",
    "        products = pivot_table.loc[user, :]\n",
    "        top_product = products.idxmax()\n",
    "        recommendations.append(top_product)\n",
    "\n",
    "    return recommendations"
   ]
  },
  {
   "cell_type": "markdown",
   "id": "a42156c0",
   "metadata": {},
   "source": [
    "#### Adjust the rating_threshold and average_rating_threshold parameters according to your desired thresholds."
   ]
  },
  {
   "cell_type": "markdown",
   "id": "870b02e2",
   "metadata": {},
   "source": [
    "#### Usage:"
   ]
  },
  {
   "cell_type": "code",
   "execution_count": 44,
   "id": "65be052d",
   "metadata": {},
   "outputs": [
    {
     "name": "stdout",
     "output_type": "stream",
     "text": [
      "Recommended products: ['B000BSLS0W', 'B002MAPSQM', 'B008JJLW4M', 'B002WE4HE2', 'B0014E02AO', 'B000067S60', 'B00000J1V5', 'B00006JN3G', 'B00004ZCDD', 'B00006I5JM']\n"
     ]
    }
   ],
   "source": [
    "user_id = \"A3OA4DV4L81N1D\"\n",
    "target_month = 7\n",
    "recommended_products = recommend_products(user_id, target_month, rating_threshold=10, average_rating_threshold=3)\n",
    "print(\"Recommended products:\", recommended_products)"
   ]
  },
  {
   "cell_type": "markdown",
   "id": "1d91970a",
   "metadata": {},
   "source": [
    "# Adding Weather and Festival Data"
   ]
  },
  {
   "cell_type": "code",
   "execution_count": 51,
   "id": "89db9704",
   "metadata": {},
   "outputs": [],
   "source": [
    "# Function to assign festivals based on timestamp\n",
    "def assign_festival(timestamp):\n",
    "    month = timestamp.month\n",
    "    if month == 1:\n",
    "        return \"New Year's Day\"\n",
    "    elif month == 2:\n",
    "        return \"Valentine's Day\"\n",
    "    elif month == 3:\n",
    "        return \"Holi\"\n",
    "    elif month == 4:\n",
    "        return \"Easter\"\n",
    "    elif month == 5:\n",
    "        return \"Cinco de Mayo\"\n",
    "    elif month == 6:\n",
    "        return \"Father's Day\"\n",
    "    elif month == 7:\n",
    "        return \"Independence Day\"\n",
    "    elif month == 8:\n",
    "        return \"Raksha Bandhan\"\n",
    "    elif month == 9:\n",
    "        return \"Ganesh Chaturthi\"\n",
    "    elif month == 10:\n",
    "        return \"Durga Puja\"\n",
    "    elif month == 11:\n",
    "        return \"Diwali\"\n",
    "    elif month == 12:\n",
    "        return \"Christmas\"\n",
    "    else:\n",
    "        return \"No Festival\"  # Assign \"No Festival\" for other months\n"
   ]
  },
  {
   "cell_type": "code",
   "execution_count": 52,
   "id": "c1ad2ea3",
   "metadata": {},
   "outputs": [],
   "source": [
    "# Function to assign weather attribute based on timestamp\n",
    "def assign_weather(timestamp):\n",
    "    month = timestamp.month\n",
    "    if month in [12, 1, 2]:\n",
    "        return \"Winter\"\n",
    "    elif month in [3, 4, 5]:\n",
    "        return \"Summer\"\n",
    "    elif month in [6, 7, 8]:\n",
    "        return \"Rainy\"\n",
    "    elif month in [9, 10, 11]:\n",
    "        return \"Spring\"\n",
    "    else:\n",
    "        return \"Unknown\"  # Assign \"Unknown\" for other months"
   ]
  },
  {
   "cell_type": "code",
   "execution_count": 53,
   "id": "dfdd074a",
   "metadata": {},
   "outputs": [],
   "source": [
    "# Iterate over each row in the DataFrame and assign festival and weather attributes\n",
    "#for index, row in df2.iterrows():\n",
    " #   timestamp = row['timestamp']\n",
    "    \n",
    "    # Assign festival based on timestamp\n",
    "  #  festival = assign_festival(timestamp)\n",
    "    \n",
    "    # Assign weather attribute based on timestamp\n",
    "   # weather = assign_weather(timestamp)\n",
    "\n",
    "    # Assign festival and weather attributes to the corresponding row\n",
    "    #df2.at[index, 'festival'] = festival\n",
    "    #df2.at[index, 'weather'] = weather"
   ]
  },
  {
   "cell_type": "code",
   "execution_count": 54,
   "id": "bf7754c1",
   "metadata": {},
   "outputs": [],
   "source": [
    "#output_file = 'updated_dataset.csv'\n",
    "#df2.to_csv(output_file, index=False)"
   ]
  },
  {
   "cell_type": "code",
   "execution_count": 128,
   "id": "9b019efa",
   "metadata": {},
   "outputs": [],
   "source": [
    "df3=pd.read_csv('updated_dataset.csv')"
   ]
  },
  {
   "cell_type": "code",
   "execution_count": 130,
   "id": "8128d70d",
   "metadata": {},
   "outputs": [],
   "source": [
    "df3.head()"
   ]
  },
  {
   "cell_type": "code",
   "execution_count": 5,
   "id": "3af566e5",
   "metadata": {},
   "outputs": [],
   "source": [
    "df3['timestamp'] = pd.to_datetime(df3['timestamp'])"
   ]
  },
  {
   "cell_type": "code",
   "execution_count": 6,
   "id": "982be148",
   "metadata": {},
   "outputs": [
    {
     "data": {
      "text/plain": [
       "userId               object\n",
       "productId            object\n",
       "rating              float64\n",
       "timestamp    datetime64[ns]\n",
       "festival             object\n",
       "weather              object\n",
       "dtype: object"
      ]
     },
     "execution_count": 6,
     "metadata": {},
     "output_type": "execute_result"
    }
   ],
   "source": [
    "df3.dtypes"
   ]
  },
  {
   "cell_type": "code",
   "execution_count": 7,
   "id": "def6ee91",
   "metadata": {},
   "outputs": [],
   "source": [
    "import scipy.sparse as sp"
   ]
  },
  {
   "cell_type": "code",
   "execution_count": 8,
   "id": "e13216ee",
   "metadata": {},
   "outputs": [],
   "source": [
    "from hnswlib import Index"
   ]
  },
  {
   "cell_type": "code",
   "execution_count": 9,
   "id": "ff2ccc7b",
   "metadata": {},
   "outputs": [],
   "source": [
    "from surprise import Dataset\n",
    "from surprise import Reader\n",
    "from surprise import KNNBasic\n",
    "from surprise.model_selection import train_test_split"
   ]
  },
  {
   "cell_type": "markdown",
   "id": "086230cb",
   "metadata": {},
   "source": [
    "#### We sampled the dataset because the dataset is too large and we had to avoid the memory error"
   ]
  },
  {
   "cell_type": "code",
   "execution_count": 75,
   "id": "f15b0dd2",
   "metadata": {},
   "outputs": [],
   "source": [
    "sample_fraction = 0.01"
   ]
  },
  {
   "cell_type": "code",
   "execution_count": 76,
   "id": "a6ae866c",
   "metadata": {},
   "outputs": [],
   "source": [
    "df4 = df3.sample(frac=sample_fraction, random_state=42)"
   ]
  },
  {
   "cell_type": "code",
   "execution_count": 77,
   "id": "41f40eae",
   "metadata": {},
   "outputs": [
    {
     "data": {
      "text/html": [
       "<div>\n",
       "<style scoped>\n",
       "    .dataframe tbody tr th:only-of-type {\n",
       "        vertical-align: middle;\n",
       "    }\n",
       "\n",
       "    .dataframe tbody tr th {\n",
       "        vertical-align: top;\n",
       "    }\n",
       "\n",
       "    .dataframe thead th {\n",
       "        text-align: right;\n",
       "    }\n",
       "</style>\n",
       "<table border=\"1\" class=\"dataframe\">\n",
       "  <thead>\n",
       "    <tr style=\"text-align: right;\">\n",
       "      <th></th>\n",
       "      <th>userId</th>\n",
       "      <th>productId</th>\n",
       "      <th>rating</th>\n",
       "      <th>timestamp</th>\n",
       "      <th>festival</th>\n",
       "      <th>weather</th>\n",
       "    </tr>\n",
       "  </thead>\n",
       "  <tbody>\n",
       "    <tr>\n",
       "      <th>1157290</th>\n",
       "      <td>A1Z3YJF1S8Z1M3</td>\n",
       "      <td>B000M9ISQ2</td>\n",
       "      <td>5.0</td>\n",
       "      <td>2008-08-01</td>\n",
       "      <td>Raksha Bandhan</td>\n",
       "      <td>Rainy</td>\n",
       "    </tr>\n",
       "    <tr>\n",
       "      <th>2677500</th>\n",
       "      <td>ALDXDYEGKB27G</td>\n",
       "      <td>B002L6HE9G</td>\n",
       "      <td>4.0</td>\n",
       "      <td>2012-10-03</td>\n",
       "      <td>Durga Puja</td>\n",
       "      <td>Spring</td>\n",
       "    </tr>\n",
       "    <tr>\n",
       "      <th>5814180</th>\n",
       "      <td>A15LOGO6NBSI6B</td>\n",
       "      <td>B007MXGG5Q</td>\n",
       "      <td>5.0</td>\n",
       "      <td>2013-01-20</td>\n",
       "      <td>New Year's Day</td>\n",
       "      <td>Winter</td>\n",
       "    </tr>\n",
       "    <tr>\n",
       "      <th>6239751</th>\n",
       "      <td>A23LX12CA3G4FG</td>\n",
       "      <td>B008HOEDYU</td>\n",
       "      <td>1.0</td>\n",
       "      <td>2013-11-25</td>\n",
       "      <td>Diwali</td>\n",
       "      <td>Spring</td>\n",
       "    </tr>\n",
       "    <tr>\n",
       "      <th>5344316</th>\n",
       "      <td>A3TV7QFYXAG130</td>\n",
       "      <td>B0069R7TAM</td>\n",
       "      <td>5.0</td>\n",
       "      <td>2014-06-17</td>\n",
       "      <td>Father's Day</td>\n",
       "      <td>Rainy</td>\n",
       "    </tr>\n",
       "  </tbody>\n",
       "</table>\n",
       "</div>"
      ],
      "text/plain": [
       "                 userId   productId  rating  timestamp        festival weather\n",
       "1157290  A1Z3YJF1S8Z1M3  B000M9ISQ2     5.0 2008-08-01  Raksha Bandhan   Rainy\n",
       "2677500   ALDXDYEGKB27G  B002L6HE9G     4.0 2012-10-03      Durga Puja  Spring\n",
       "5814180  A15LOGO6NBSI6B  B007MXGG5Q     5.0 2013-01-20  New Year's Day  Winter\n",
       "6239751  A23LX12CA3G4FG  B008HOEDYU     1.0 2013-11-25          Diwali  Spring\n",
       "5344316  A3TV7QFYXAG130  B0069R7TAM     5.0 2014-06-17    Father's Day   Rainy"
      ]
     },
     "execution_count": 77,
     "metadata": {},
     "output_type": "execute_result"
    }
   ],
   "source": [
    "df4.head()"
   ]
  },
  {
   "cell_type": "code",
   "execution_count": 78,
   "id": "cf67b626",
   "metadata": {},
   "outputs": [
    {
     "data": {
      "text/html": [
       "<div>\n",
       "<style scoped>\n",
       "    .dataframe tbody tr th:only-of-type {\n",
       "        vertical-align: middle;\n",
       "    }\n",
       "\n",
       "    .dataframe tbody tr th {\n",
       "        vertical-align: top;\n",
       "    }\n",
       "\n",
       "    .dataframe thead th {\n",
       "        text-align: right;\n",
       "    }\n",
       "</style>\n",
       "<table border=\"1\" class=\"dataframe\">\n",
       "  <thead>\n",
       "    <tr style=\"text-align: right;\">\n",
       "      <th></th>\n",
       "      <th>userId</th>\n",
       "      <th>productId</th>\n",
       "      <th>rating</th>\n",
       "      <th>timestamp</th>\n",
       "      <th>festival</th>\n",
       "      <th>weather</th>\n",
       "    </tr>\n",
       "  </thead>\n",
       "  <tbody>\n",
       "    <tr>\n",
       "      <th>3064391</th>\n",
       "      <td>A1TWH3KD5YJQHM</td>\n",
       "      <td>B0035ERKYW</td>\n",
       "      <td>5.0</td>\n",
       "      <td>2012-11-09</td>\n",
       "      <td>Diwali</td>\n",
       "      <td>Spring</td>\n",
       "    </tr>\n",
       "    <tr>\n",
       "      <th>4388940</th>\n",
       "      <td>AMXTPQY23TN07</td>\n",
       "      <td>B004RB8CT4</td>\n",
       "      <td>4.0</td>\n",
       "      <td>2013-03-05</td>\n",
       "      <td>Holi</td>\n",
       "      <td>Summer</td>\n",
       "    </tr>\n",
       "    <tr>\n",
       "      <th>2691677</th>\n",
       "      <td>A1FCG75OIMKQCT</td>\n",
       "      <td>B002LTWDSK</td>\n",
       "      <td>2.0</td>\n",
       "      <td>2013-01-08</td>\n",
       "      <td>New Year's Day</td>\n",
       "      <td>Winter</td>\n",
       "    </tr>\n",
       "    <tr>\n",
       "      <th>4332919</th>\n",
       "      <td>A2X2NI89D5BQ2E</td>\n",
       "      <td>B004P1V8TM</td>\n",
       "      <td>5.0</td>\n",
       "      <td>2014-02-19</td>\n",
       "      <td>Valentine's Day</td>\n",
       "      <td>Winter</td>\n",
       "    </tr>\n",
       "    <tr>\n",
       "      <th>390062</th>\n",
       "      <td>A2VAZBUX99XIWP</td>\n",
       "      <td>B0001FTVEK</td>\n",
       "      <td>5.0</td>\n",
       "      <td>2013-05-01</td>\n",
       "      <td>Cinco de Mayo</td>\n",
       "      <td>Summer</td>\n",
       "    </tr>\n",
       "  </tbody>\n",
       "</table>\n",
       "</div>"
      ],
      "text/plain": [
       "                 userId   productId  rating  timestamp         festival  \\\n",
       "3064391  A1TWH3KD5YJQHM  B0035ERKYW     5.0 2012-11-09           Diwali   \n",
       "4388940   AMXTPQY23TN07  B004RB8CT4     4.0 2013-03-05             Holi   \n",
       "2691677  A1FCG75OIMKQCT  B002LTWDSK     2.0 2013-01-08   New Year's Day   \n",
       "4332919  A2X2NI89D5BQ2E  B004P1V8TM     5.0 2014-02-19  Valentine's Day   \n",
       "390062   A2VAZBUX99XIWP  B0001FTVEK     5.0 2013-05-01    Cinco de Mayo   \n",
       "\n",
       "        weather  \n",
       "3064391  Spring  \n",
       "4388940  Summer  \n",
       "2691677  Winter  \n",
       "4332919  Winter  \n",
       "390062   Summer  "
      ]
     },
     "execution_count": 78,
     "metadata": {},
     "output_type": "execute_result"
    }
   ],
   "source": [
    "df4.tail()"
   ]
  },
  {
   "cell_type": "code",
   "execution_count": 79,
   "id": "6578c5d5",
   "metadata": {},
   "outputs": [
    {
     "name": "stdout",
     "output_type": "stream",
     "text": [
      "Sampled dataset size: 78245\n"
     ]
    }
   ],
   "source": [
    "print(\"Sampled dataset size:\", len(df4))"
   ]
  },
  {
   "cell_type": "code",
   "execution_count": 80,
   "id": "2106576f",
   "metadata": {},
   "outputs": [],
   "source": [
    "target_festival = None #Input either a festival name or a weather condition\n",
    "target_weather = \"Summer\"\n",
    "avg_rating_threshold = 3.5  # Minimum average rating threshold\n",
    "num_ratings_threshold = 10  # Minimum number of ratings threshold"
   ]
  },
  {
   "cell_type": "code",
   "execution_count": 81,
   "id": "ca9fa2b3",
   "metadata": {},
   "outputs": [],
   "source": [
    "if target_weather:\n",
    "    filtered_data = df4[df4['weather'] == target_weather]\n",
    "else:\n",
    "    filtered_data = df4[df4['festival'] == target_festival]"
   ]
  },
  {
   "cell_type": "code",
   "execution_count": 82,
   "id": "73d3d4e8",
   "metadata": {},
   "outputs": [],
   "source": [
    "product_stats = filtered_data.groupby('productId').agg({'rating': ['mean', 'count']})\n",
    "product_stats.columns = ['avg_rating', 'num_ratings']"
   ]
  },
  {
   "cell_type": "code",
   "execution_count": 83,
   "id": "44f14c76",
   "metadata": {},
   "outputs": [],
   "source": [
    "filtered_products = product_stats[\n",
    "    (product_stats['avg_rating'] >= avg_rating_threshold) &\n",
    "    (product_stats['num_ratings'] >= num_ratings_threshold)]"
   ]
  },
  {
   "cell_type": "code",
   "execution_count": 84,
   "id": "9a80ddbd",
   "metadata": {},
   "outputs": [],
   "source": [
    "filtered_data = filtered_data[filtered_data['productId'].isin(filtered_products.index)]"
   ]
  },
  {
   "cell_type": "code",
   "execution_count": 85,
   "id": "38892aea",
   "metadata": {},
   "outputs": [],
   "source": [
    "reader = Reader(rating_scale=(1, 5))"
   ]
  },
  {
   "cell_type": "code",
   "execution_count": 86,
   "id": "e31cc949",
   "metadata": {},
   "outputs": [],
   "source": [
    "dataset = Dataset.load_from_df(filtered_data[['userId', 'productId', 'rating']], reader)"
   ]
  },
  {
   "cell_type": "code",
   "execution_count": 87,
   "id": "bf5be663",
   "metadata": {},
   "outputs": [],
   "source": [
    "trainset, testset = train_test_split(dataset, test_size=0.2)"
   ]
  },
  {
   "cell_type": "code",
   "execution_count": 88,
   "id": "85607859",
   "metadata": {},
   "outputs": [],
   "source": [
    "algo = KNNBasic()"
   ]
  },
  {
   "cell_type": "code",
   "execution_count": 89,
   "id": "fca4c99c",
   "metadata": {},
   "outputs": [
    {
     "name": "stdout",
     "output_type": "stream",
     "text": [
      "Computing the msd similarity matrix...\n",
      "Done computing similarity matrix.\n"
     ]
    },
    {
     "data": {
      "text/plain": [
       "<surprise.prediction_algorithms.knns.KNNBasic at 0x184012f58d0>"
      ]
     },
     "execution_count": 89,
     "metadata": {},
     "output_type": "execute_result"
    }
   ],
   "source": [
    "algo.fit(trainset)"
   ]
  },
  {
   "cell_type": "code",
   "execution_count": 90,
   "id": "35781af3",
   "metadata": {},
   "outputs": [],
   "source": [
    "predictions = algo.test(testset)"
   ]
  },
  {
   "cell_type": "code",
   "execution_count": 132,
   "id": "93657778",
   "metadata": {},
   "outputs": [],
   "source": [
    "user_id = 'A2X2NI89D5BQ2E'\n",
    "top_n = 5  # Number of recommendations to generate"
   ]
  },
  {
   "cell_type": "code",
   "execution_count": 133,
   "id": "93485200",
   "metadata": {},
   "outputs": [],
   "source": [
    "user_items = filtered_data.loc[filtered_data['userId'] == user_id, 'productId']\n",
    "all_items = filtered_data['productId'].unique()\n",
    "items_to_predict = list(set(all_items) - set(user_items))"
   ]
  },
  {
   "cell_type": "code",
   "execution_count": 134,
   "id": "f035ec6a",
   "metadata": {},
   "outputs": [],
   "source": [
    "user_predictions = [algo.predict(user_id, item_id) for item_id in items_to_predict]"
   ]
  },
  {
   "cell_type": "code",
   "execution_count": 135,
   "id": "042bf6a7",
   "metadata": {},
   "outputs": [],
   "source": [
    "sorted_predictions = sorted(user_predictions, key=lambda x: x.est, reverse=True)"
   ]
  },
  {
   "cell_type": "code",
   "execution_count": 136,
   "id": "f9d53627",
   "metadata": {},
   "outputs": [],
   "source": [
    "recommended_items = [pred.iid for pred in sorted_predictions[:top_n]]"
   ]
  },
  {
   "cell_type": "code",
   "execution_count": 137,
   "id": "6761c0d2",
   "metadata": {},
   "outputs": [
    {
     "name": "stdout",
     "output_type": "stream",
     "text": [
      "Top 5 recommended items for user A2X2NI89D5BQ2E: ['B001XURP7W', 'B004QK7HI8', 'B0057OCDQS', 'B005DKZTMG', 'B00622AG6S']\n"
     ]
    }
   ],
   "source": [
    "print(\"Top {} recommended items for user {}: {}\".format(top_n, user_id, recommended_items))"
   ]
  },
  {
   "cell_type": "markdown",
   "id": "b9d06c63",
   "metadata": {},
   "source": [
    "# For Electronic Dataset"
   ]
  },
  {
   "cell_type": "code",
   "execution_count": 42,
   "id": "941cfeac",
   "metadata": {},
   "outputs": [],
   "source": [
    "electronics=pd.read_csv(\"kz.csv\")"
   ]
  },
  {
   "cell_type": "code",
   "execution_count": 43,
   "id": "13bf9443",
   "metadata": {},
   "outputs": [
    {
     "data": {
      "text/html": [
       "<div>\n",
       "<style scoped>\n",
       "    .dataframe tbody tr th:only-of-type {\n",
       "        vertical-align: middle;\n",
       "    }\n",
       "\n",
       "    .dataframe tbody tr th {\n",
       "        vertical-align: top;\n",
       "    }\n",
       "\n",
       "    .dataframe thead th {\n",
       "        text-align: right;\n",
       "    }\n",
       "</style>\n",
       "<table border=\"1\" class=\"dataframe\">\n",
       "  <thead>\n",
       "    <tr style=\"text-align: right;\">\n",
       "      <th></th>\n",
       "      <th>event_time</th>\n",
       "      <th>order_id</th>\n",
       "      <th>product_id</th>\n",
       "      <th>category_id</th>\n",
       "      <th>category_code</th>\n",
       "      <th>brand</th>\n",
       "      <th>price</th>\n",
       "      <th>user_id</th>\n",
       "    </tr>\n",
       "  </thead>\n",
       "  <tbody>\n",
       "    <tr>\n",
       "      <th>0</th>\n",
       "      <td>2020-04-24 11:50:39 UTC</td>\n",
       "      <td>2294359932054536986</td>\n",
       "      <td>1515966223509089906</td>\n",
       "      <td>2.268105e+18</td>\n",
       "      <td>electronics.tablet</td>\n",
       "      <td>samsung</td>\n",
       "      <td>162.01</td>\n",
       "      <td>1.515916e+18</td>\n",
       "    </tr>\n",
       "    <tr>\n",
       "      <th>1</th>\n",
       "      <td>2020-04-24 11:50:39 UTC</td>\n",
       "      <td>2294359932054536986</td>\n",
       "      <td>1515966223509089906</td>\n",
       "      <td>2.268105e+18</td>\n",
       "      <td>electronics.tablet</td>\n",
       "      <td>samsung</td>\n",
       "      <td>162.01</td>\n",
       "      <td>1.515916e+18</td>\n",
       "    </tr>\n",
       "    <tr>\n",
       "      <th>2</th>\n",
       "      <td>2020-04-24 14:37:43 UTC</td>\n",
       "      <td>2294444024058086220</td>\n",
       "      <td>2273948319057183658</td>\n",
       "      <td>2.268105e+18</td>\n",
       "      <td>electronics.audio.headphone</td>\n",
       "      <td>huawei</td>\n",
       "      <td>77.52</td>\n",
       "      <td>1.515916e+18</td>\n",
       "    </tr>\n",
       "    <tr>\n",
       "      <th>3</th>\n",
       "      <td>2020-04-24 14:37:43 UTC</td>\n",
       "      <td>2294444024058086220</td>\n",
       "      <td>2273948319057183658</td>\n",
       "      <td>2.268105e+18</td>\n",
       "      <td>electronics.audio.headphone</td>\n",
       "      <td>huawei</td>\n",
       "      <td>77.52</td>\n",
       "      <td>1.515916e+18</td>\n",
       "    </tr>\n",
       "    <tr>\n",
       "      <th>4</th>\n",
       "      <td>2020-04-24 19:16:21 UTC</td>\n",
       "      <td>2294584263154074236</td>\n",
       "      <td>2273948316817424439</td>\n",
       "      <td>2.268105e+18</td>\n",
       "      <td>NaN</td>\n",
       "      <td>karcher</td>\n",
       "      <td>217.57</td>\n",
       "      <td>1.515916e+18</td>\n",
       "    </tr>\n",
       "  </tbody>\n",
       "</table>\n",
       "</div>"
      ],
      "text/plain": [
       "                event_time             order_id           product_id  \\\n",
       "0  2020-04-24 11:50:39 UTC  2294359932054536986  1515966223509089906   \n",
       "1  2020-04-24 11:50:39 UTC  2294359932054536986  1515966223509089906   \n",
       "2  2020-04-24 14:37:43 UTC  2294444024058086220  2273948319057183658   \n",
       "3  2020-04-24 14:37:43 UTC  2294444024058086220  2273948319057183658   \n",
       "4  2020-04-24 19:16:21 UTC  2294584263154074236  2273948316817424439   \n",
       "\n",
       "    category_id                category_code    brand   price       user_id  \n",
       "0  2.268105e+18           electronics.tablet  samsung  162.01  1.515916e+18  \n",
       "1  2.268105e+18           electronics.tablet  samsung  162.01  1.515916e+18  \n",
       "2  2.268105e+18  electronics.audio.headphone   huawei   77.52  1.515916e+18  \n",
       "3  2.268105e+18  electronics.audio.headphone   huawei   77.52  1.515916e+18  \n",
       "4  2.268105e+18                          NaN  karcher  217.57  1.515916e+18  "
      ]
     },
     "execution_count": 43,
     "metadata": {},
     "output_type": "execute_result"
    }
   ],
   "source": [
    "electronics.head()"
   ]
  },
  {
   "cell_type": "code",
   "execution_count": 44,
   "id": "232ad666",
   "metadata": {},
   "outputs": [],
   "source": [
    "electronics['category_id'] = pd.to_numeric(electronics['category_id'])"
   ]
  },
  {
   "cell_type": "code",
   "execution_count": 45,
   "id": "e7146a6b",
   "metadata": {},
   "outputs": [],
   "source": [
    "electronics['category_id'] = electronics['category_id'].astype(float)"
   ]
  },
  {
   "cell_type": "code",
   "execution_count": 46,
   "id": "ce35b924",
   "metadata": {},
   "outputs": [
    {
     "data": {
      "text/plain": [
       "event_time        object\n",
       "order_id           int64\n",
       "product_id         int64\n",
       "category_id      float64\n",
       "category_code     object\n",
       "brand             object\n",
       "price            float64\n",
       "user_id          float64\n",
       "dtype: object"
      ]
     },
     "execution_count": 46,
     "metadata": {},
     "output_type": "execute_result"
    }
   ],
   "source": [
    "electronics.dtypes"
   ]
  },
  {
   "cell_type": "code",
   "execution_count": 47,
   "id": "33c68aee",
   "metadata": {},
   "outputs": [],
   "source": [
    "electronics['event_time'] = pd.to_datetime(electronics['event_time'])"
   ]
  },
  {
   "cell_type": "code",
   "execution_count": 48,
   "id": "89738594",
   "metadata": {},
   "outputs": [
    {
     "data": {
      "text/plain": [
       "event_time       datetime64[ns, UTC]\n",
       "order_id                       int64\n",
       "product_id                     int64\n",
       "category_id                  float64\n",
       "category_code                 object\n",
       "brand                         object\n",
       "price                        float64\n",
       "user_id                      float64\n",
       "dtype: object"
      ]
     },
     "execution_count": 48,
     "metadata": {},
     "output_type": "execute_result"
    }
   ],
   "source": [
    "electronics.dtypes"
   ]
  },
  {
   "cell_type": "code",
   "execution_count": 49,
   "id": "81de9886",
   "metadata": {},
   "outputs": [
    {
     "data": {
      "text/plain": [
       "event_time             0\n",
       "order_id               0\n",
       "product_id             0\n",
       "category_id       431954\n",
       "category_code     612202\n",
       "brand             506005\n",
       "price             431954\n",
       "user_id          2069352\n",
       "dtype: int64"
      ]
     },
     "execution_count": 49,
     "metadata": {},
     "output_type": "execute_result"
    }
   ],
   "source": [
    "electronics.isnull().sum()"
   ]
  },
  {
   "cell_type": "code",
   "execution_count": 50,
   "id": "3603666f",
   "metadata": {},
   "outputs": [],
   "source": [
    "electronics.dropna(inplace=True)"
   ]
  },
  {
   "cell_type": "code",
   "execution_count": 51,
   "id": "74a9a870",
   "metadata": {},
   "outputs": [
    {
     "data": {
      "text/plain": [
       "(420718, 8)"
      ]
     },
     "execution_count": 51,
     "metadata": {},
     "output_type": "execute_result"
    }
   ],
   "source": [
    "electronics.shape"
   ]
  },
  {
   "cell_type": "code",
   "execution_count": 52,
   "id": "5217664a",
   "metadata": {},
   "outputs": [],
   "source": [
    "from surprise import Dataset, Reader, SVD, KNNBasic\n",
    "from surprise.model_selection import train_test_split\n",
    "from surprise import accuracy"
   ]
  },
  {
   "cell_type": "code",
   "execution_count": 53,
   "id": "9654a49f",
   "metadata": {},
   "outputs": [],
   "source": [
    "electronics['month'] = electronics['event_time'].dt.month"
   ]
  },
  {
   "cell_type": "code",
   "execution_count": 54,
   "id": "8a6553b2",
   "metadata": {},
   "outputs": [],
   "source": [
    "reader = Reader(rating_scale=(0, 1))"
   ]
  },
  {
   "cell_type": "code",
   "execution_count": 55,
   "id": "96a8dcff",
   "metadata": {},
   "outputs": [],
   "source": [
    "reader.rating_scale = (0, 1)"
   ]
  },
  {
   "cell_type": "code",
   "execution_count": 56,
   "id": "637069cd",
   "metadata": {},
   "outputs": [],
   "source": [
    "data = Dataset.load_from_df(electronics[['user_id', 'product_id', 'month']], reader)"
   ]
  },
  {
   "cell_type": "code",
   "execution_count": 57,
   "id": "f5071f9f",
   "metadata": {},
   "outputs": [],
   "source": [
    "trainset, testset = train_test_split(data, test_size=0.2)"
   ]
  },
  {
   "cell_type": "code",
   "execution_count": 58,
   "id": "1f29fefa",
   "metadata": {},
   "outputs": [],
   "source": [
    "model = SVD()"
   ]
  },
  {
   "cell_type": "code",
   "execution_count": 59,
   "id": "d1bf3126",
   "metadata": {},
   "outputs": [
    {
     "data": {
      "text/plain": [
       "<surprise.prediction_algorithms.matrix_factorization.SVD at 0x25e85364e10>"
      ]
     },
     "execution_count": 59,
     "metadata": {},
     "output_type": "execute_result"
    }
   ],
   "source": [
    "model.fit(trainset)"
   ]
  },
  {
   "cell_type": "code",
   "execution_count": 60,
   "id": "91a3cb1e",
   "metadata": {},
   "outputs": [],
   "source": [
    "predictions = model.test(testset)"
   ]
  },
  {
   "cell_type": "code",
   "execution_count": 61,
   "id": "099021d5",
   "metadata": {},
   "outputs": [
    {
     "name": "stdout",
     "output_type": "stream",
     "text": [
      "RMSE: 7.1833\n"
     ]
    },
    {
     "data": {
      "text/plain": [
       "7.183297553569779"
      ]
     },
     "execution_count": 61,
     "metadata": {},
     "output_type": "execute_result"
    }
   ],
   "source": [
    "accuracy.rmse(predictions)"
   ]
  },
  {
   "cell_type": "code",
   "execution_count": 62,
   "id": "51d5dea1",
   "metadata": {},
   "outputs": [],
   "source": [
    "def get_recommendations(user_id, month):\n",
    "    products_already_bought = electronics[(electronics['user_id'] == user_id) & (electronics['month'] == month)]['product_id'].tolist()\n",
    "    all_products = electronics[electronics['month'] == month]['product_id'].unique().tolist()\n",
    "    products_to_recommend = [p for p in all_products if p not in products_already_bought]\n",
    "\n",
    "    recommendations = []\n",
    "    for product_id in products_to_recommend:\n",
    "        prediction = model.predict(user_id, product_id)\n",
    "        recommendations.append((product_id, prediction.est))\n",
    "\n",
    "    recommendations.sort(key=lambda x: x[1], reverse=True)\n",
    "    return recommendations"
   ]
  },
  {
   "cell_type": "markdown",
   "id": "7f0523a3",
   "metadata": {},
   "source": [
    "#### The code uses the Surprise library's SVD algorithm for collaborative filtering, and it recommends products for a given user based on the month extracted from the event_time column. The get_recommendations() function takes a user_id and a month as input and returns the top recommended products for that user in the given month."
   ]
  },
  {
   "cell_type": "code",
   "execution_count": 67,
   "id": "60f1589c",
   "metadata": {},
   "outputs": [],
   "source": [
    "import random"
   ]
  },
  {
   "cell_type": "code",
   "execution_count": 68,
   "id": "cbb3f3f8",
   "metadata": {},
   "outputs": [],
   "source": [
    "random_user_id = random.choice(electronics['user_id'].unique().tolist())"
   ]
  },
  {
   "cell_type": "code",
   "execution_count": 69,
   "id": "276ee4e3",
   "metadata": {},
   "outputs": [
    {
     "name": "stdout",
     "output_type": "stream",
     "text": [
      "1.5159156254820677e+18\n"
     ]
    }
   ],
   "source": [
    "print(random_user_id)"
   ]
  },
  {
   "cell_type": "markdown",
   "id": "344a33e9",
   "metadata": {},
   "source": [
    "#### Usage:"
   ]
  },
  {
   "cell_type": "code",
   "execution_count": 130,
   "id": "010c721b",
   "metadata": {},
   "outputs": [
    {
     "name": "stdout",
     "output_type": "stream",
     "text": [
      "Recommended Products:\n",
      "Product ID: 1515966223509089425, Predicted Rating: 1\n",
      "Product ID: 1515966223509089067, Predicted Rating: 1\n",
      "Product ID: 1515966223509260711, Predicted Rating: 1\n",
      "Product ID: 1515966223509301740, Predicted Rating: 1\n",
      "Product ID: 1515966223509267365, Predicted Rating: 1\n"
     ]
    }
   ],
   "source": [
    "user_id = random_user_id #user_id is too lengthy to manually enter. Hence a random user_id is picked.\n",
    "month = 9\n",
    "recommendations = get_recommendations(user_id, month)\n",
    "print(\"Recommended Products:\")\n",
    "for product_id, predicted_rating in recommendations[:5]:\n",
    "    print(f\"Product ID: {product_id}, Predicted Rating: {predicted_rating}\")"
   ]
  },
  {
   "cell_type": "markdown",
   "id": "dc3c0408",
   "metadata": {},
   "source": [
    "# For Groceries Dataset"
   ]
  },
  {
   "cell_type": "code",
   "execution_count": 3,
   "id": "56a774ac",
   "metadata": {},
   "outputs": [],
   "source": [
    "groc=pd.read_csv(\"Groceries_dataset.csv\")"
   ]
  },
  {
   "cell_type": "code",
   "execution_count": 4,
   "id": "5e569e30",
   "metadata": {},
   "outputs": [
    {
     "data": {
      "text/html": [
       "<div>\n",
       "<style scoped>\n",
       "    .dataframe tbody tr th:only-of-type {\n",
       "        vertical-align: middle;\n",
       "    }\n",
       "\n",
       "    .dataframe tbody tr th {\n",
       "        vertical-align: top;\n",
       "    }\n",
       "\n",
       "    .dataframe thead th {\n",
       "        text-align: right;\n",
       "    }\n",
       "</style>\n",
       "<table border=\"1\" class=\"dataframe\">\n",
       "  <thead>\n",
       "    <tr style=\"text-align: right;\">\n",
       "      <th></th>\n",
       "      <th>Member_number</th>\n",
       "      <th>Date</th>\n",
       "      <th>itemDescription</th>\n",
       "    </tr>\n",
       "  </thead>\n",
       "  <tbody>\n",
       "    <tr>\n",
       "      <th>0</th>\n",
       "      <td>1808</td>\n",
       "      <td>21-07-2015</td>\n",
       "      <td>tropical fruit</td>\n",
       "    </tr>\n",
       "    <tr>\n",
       "      <th>1</th>\n",
       "      <td>2552</td>\n",
       "      <td>05-01-2015</td>\n",
       "      <td>whole milk</td>\n",
       "    </tr>\n",
       "    <tr>\n",
       "      <th>2</th>\n",
       "      <td>2300</td>\n",
       "      <td>19-09-2015</td>\n",
       "      <td>pip fruit</td>\n",
       "    </tr>\n",
       "    <tr>\n",
       "      <th>3</th>\n",
       "      <td>1187</td>\n",
       "      <td>12-12-2015</td>\n",
       "      <td>other vegetables</td>\n",
       "    </tr>\n",
       "    <tr>\n",
       "      <th>4</th>\n",
       "      <td>3037</td>\n",
       "      <td>01-02-2015</td>\n",
       "      <td>whole milk</td>\n",
       "    </tr>\n",
       "  </tbody>\n",
       "</table>\n",
       "</div>"
      ],
      "text/plain": [
       "   Member_number        Date   itemDescription\n",
       "0           1808  21-07-2015    tropical fruit\n",
       "1           2552  05-01-2015        whole milk\n",
       "2           2300  19-09-2015         pip fruit\n",
       "3           1187  12-12-2015  other vegetables\n",
       "4           3037  01-02-2015        whole milk"
      ]
     },
     "execution_count": 4,
     "metadata": {},
     "output_type": "execute_result"
    }
   ],
   "source": [
    "groc.head()"
   ]
  },
  {
   "cell_type": "code",
   "execution_count": 6,
   "id": "2e37f60d",
   "metadata": {},
   "outputs": [
    {
     "data": {
      "text/plain": [
       "Member_number      0\n",
       "Date               0\n",
       "itemDescription    0\n",
       "dtype: int64"
      ]
     },
     "execution_count": 6,
     "metadata": {},
     "output_type": "execute_result"
    }
   ],
   "source": [
    "groc.isnull().sum()"
   ]
  },
  {
   "cell_type": "code",
   "execution_count": 7,
   "id": "a9f8bc46",
   "metadata": {},
   "outputs": [
    {
     "data": {
      "text/plain": [
       "Member_number       int64\n",
       "Date               object\n",
       "itemDescription    object\n",
       "dtype: object"
      ]
     },
     "execution_count": 7,
     "metadata": {},
     "output_type": "execute_result"
    }
   ],
   "source": [
    "groc.dtypes"
   ]
  },
  {
   "cell_type": "code",
   "execution_count": 8,
   "id": "bb19c0e5",
   "metadata": {},
   "outputs": [],
   "source": [
    "groc['Date'] = pd.to_datetime(groc['Date'])"
   ]
  },
  {
   "cell_type": "code",
   "execution_count": 9,
   "id": "27d7590c",
   "metadata": {},
   "outputs": [
    {
     "data": {
      "text/html": [
       "<div>\n",
       "<style scoped>\n",
       "    .dataframe tbody tr th:only-of-type {\n",
       "        vertical-align: middle;\n",
       "    }\n",
       "\n",
       "    .dataframe tbody tr th {\n",
       "        vertical-align: top;\n",
       "    }\n",
       "\n",
       "    .dataframe thead th {\n",
       "        text-align: right;\n",
       "    }\n",
       "</style>\n",
       "<table border=\"1\" class=\"dataframe\">\n",
       "  <thead>\n",
       "    <tr style=\"text-align: right;\">\n",
       "      <th></th>\n",
       "      <th>Member_number</th>\n",
       "      <th>Date</th>\n",
       "      <th>itemDescription</th>\n",
       "    </tr>\n",
       "  </thead>\n",
       "  <tbody>\n",
       "    <tr>\n",
       "      <th>0</th>\n",
       "      <td>1808</td>\n",
       "      <td>2015-07-21</td>\n",
       "      <td>tropical fruit</td>\n",
       "    </tr>\n",
       "    <tr>\n",
       "      <th>1</th>\n",
       "      <td>2552</td>\n",
       "      <td>2015-05-01</td>\n",
       "      <td>whole milk</td>\n",
       "    </tr>\n",
       "    <tr>\n",
       "      <th>2</th>\n",
       "      <td>2300</td>\n",
       "      <td>2015-09-19</td>\n",
       "      <td>pip fruit</td>\n",
       "    </tr>\n",
       "    <tr>\n",
       "      <th>3</th>\n",
       "      <td>1187</td>\n",
       "      <td>2015-12-12</td>\n",
       "      <td>other vegetables</td>\n",
       "    </tr>\n",
       "    <tr>\n",
       "      <th>4</th>\n",
       "      <td>3037</td>\n",
       "      <td>2015-01-02</td>\n",
       "      <td>whole milk</td>\n",
       "    </tr>\n",
       "  </tbody>\n",
       "</table>\n",
       "</div>"
      ],
      "text/plain": [
       "   Member_number       Date   itemDescription\n",
       "0           1808 2015-07-21    tropical fruit\n",
       "1           2552 2015-05-01        whole milk\n",
       "2           2300 2015-09-19         pip fruit\n",
       "3           1187 2015-12-12  other vegetables\n",
       "4           3037 2015-01-02        whole milk"
      ]
     },
     "execution_count": 9,
     "metadata": {},
     "output_type": "execute_result"
    }
   ],
   "source": [
    "groc.head()"
   ]
  },
  {
   "cell_type": "code",
   "execution_count": 10,
   "id": "bfc21a71",
   "metadata": {},
   "outputs": [
    {
     "data": {
      "text/plain": [
       "Member_number               int64\n",
       "Date               datetime64[ns]\n",
       "itemDescription            object\n",
       "dtype: object"
      ]
     },
     "execution_count": 10,
     "metadata": {},
     "output_type": "execute_result"
    }
   ],
   "source": [
    "groc.dtypes"
   ]
  },
  {
   "cell_type": "code",
   "execution_count": 172,
   "id": "1536a994",
   "metadata": {},
   "outputs": [],
   "source": [
    "groc['Month'] = pd.to_datetime(groc['Date']).dt.month"
   ]
  },
  {
   "cell_type": "code",
   "execution_count": 173,
   "id": "b926b7bc",
   "metadata": {},
   "outputs": [],
   "source": [
    "item_mapping = {item: idx for idx, item in enumerate(groc['itemDescription'].unique())}\n",
    "groc['item_id'] = groc['itemDescription'].map(item_mapping)"
   ]
  },
  {
   "cell_type": "code",
   "execution_count": 174,
   "id": "32013a1f",
   "metadata": {},
   "outputs": [],
   "source": [
    "reader = Reader(rating_scale=(1, 10))"
   ]
  },
  {
   "cell_type": "code",
   "execution_count": 175,
   "id": "93fb0120",
   "metadata": {},
   "outputs": [],
   "source": [
    "data = Dataset.load_from_df(groc[['Member_number', 'item_id', 'Month']], reader)"
   ]
  },
  {
   "cell_type": "code",
   "execution_count": 177,
   "id": "91ef58ea",
   "metadata": {},
   "outputs": [],
   "source": [
    "trainset, _ = train_test_split(data, test_size=0.2)"
   ]
  },
  {
   "cell_type": "code",
   "execution_count": 178,
   "id": "e1acf153",
   "metadata": {},
   "outputs": [],
   "source": [
    "algo = SVD()"
   ]
  },
  {
   "cell_type": "code",
   "execution_count": 187,
   "id": "fd88768b",
   "metadata": {},
   "outputs": [
    {
     "data": {
      "text/plain": [
       "<surprise.prediction_algorithms.matrix_factorization.SVD at 0x21321af8190>"
      ]
     },
     "execution_count": 187,
     "metadata": {},
     "output_type": "execute_result"
    }
   ],
   "source": [
    "algo.fit(trainset)"
   ]
  },
  {
   "cell_type": "code",
   "execution_count": 191,
   "id": "5363176a",
   "metadata": {},
   "outputs": [],
   "source": [
    "def get_recommendations(member_number, month, top_n=10):\n",
    "    # Get all item IDs\n",
    "    all_item_ids = set(groc['item_id'])\n",
    "    \n",
    "    # Get items that the user has already interacted with in the given month\n",
    "    user_purchases = groc[(groc['Member_number'] == member_number) & (groc['Month'] == month)]['item_id']\n",
    "    \n",
    "    # Get items that the user has not interacted with in the given month\n",
    "    items_to_predict = list(all_item_ids - set(user_purchases))\n",
    "    \n",
    "    # Make predictions for the user on the items to predict\n",
    "    predictions = [algo.predict(member_number, item_id).est for item_id in items_to_predict]\n",
    "    \n",
    "    # Sort items based on predicted ratings (higher ratings mean better recommendations)\n",
    "    items_sorted = [item_id for _, item_id in sorted(zip(predictions, items_to_predict), reverse=True)]\n",
    "    \n",
    "    # Get the itemDescription for recommended items\n",
    "    recommended_items = [item for item, idx in item_mapping.items() if idx in items_sorted]\n",
    "    return recommended_items[:top_n]\n"
   ]
  },
  {
   "cell_type": "markdown",
   "id": "88569bc8",
   "metadata": {},
   "source": [
    "#### With this code, we use the Surprise library to perform SVD-based matrix factorization and generate recommendations for users in a given month. The algorithm predicts ratings for items the user has not interacted with in the given month and recommends items with the highest predicted ratings."
   ]
  },
  {
   "cell_type": "markdown",
   "id": "3d5e22c4",
   "metadata": {},
   "source": [
    "#### Printing all qualified users for a given month:"
   ]
  },
  {
   "cell_type": "code",
   "execution_count": 205,
   "id": "06a280b6",
   "metadata": {},
   "outputs": [
    {
     "name": "stdout",
     "output_type": "stream",
     "text": [
      "Qualified users for month 1: 3037, 1420, 4918, 3365, 1967, 2270, 1587, 3111, 4155, 1661, 1127, 3221, 3649, 3954, 3795, 4787, 3310, 1232, 1107, 2749, 2912, 3332, 2473, 2870, 3283, 4088, 4694, 1760, 4099, 2600, 3379, 3245, 1001, 4073, 2962, 2659, 2630, 4212, 2622, 1897, 1537, 2254, 4095, 3713, 3869, 1483, 3950, 1634, 1766, 4415, 2840, 2690, 4369, 3483, 4338, 4778, 1946, 4826, 1918, 2096, 3120, 1827, 4683, 4616, 3842, 2716, 1335, 3601, 2641, 1902, 3452, 4864, 3284, 1401, 4171, 2700, 1930, 4440, 4986, 3473, 4326, 1990, 4560, 1273, 4321, 1293, 2267, 4993, 1815, 4363, 2211, 2297, 3311, 3085, 3538, 3549, 3857, 4677, 4368, 1481, 4719, 1516, 3518, 4537, 2399, 4133, 2245, 3289, 3465, 3072, 2120, 2386, 4274, 3101, 3553, 3846, 4496, 3298, 2074, 2356, 2655, 2777, 1144, 4217, 4296, 2517, 2735, 2304, 2243, 3532, 3176, 3768, 3390, 1616, 3500, 3940, 3793, 4647, 4838, 3354, 1075, 1371, 1615, 2381, 3200, 2347, 4573, 1324, 2971, 2632, 1164, 3982, 2100, 3337, 3078, 4116, 4121, 1824, 3471, 2335, 1773, 3143, 3433, 4924, 3026, 3758, 1230, 2249, 3455, 3949, 1737, 3467, 2612, 2186, 1914, 4693, 3248, 3868, 2845, 2764, 4225, 4886, 3363, 4414, 1049, 3596, 1231, 1182, 3872, 3985, 4445, 1068, 3230, 3240, 1354, 1814, 3581, 3247, 4308, 4941, 2107, 4676, 2512, 4301, 3651, 2595, 3228, 3170, 2944, 3430, 2081, 3201, 3413, 4354, 3499, 2804, 3021, 3791, 4100, 2077, 3764, 1957, 1517, 2958, 1531, 4671, 4406, 3535, 3915, 3459, 4320, 1460, 3548, 3042, 1422, 2235, 1340, 4668, 1160, 1451, 2785, 3159, 3205, 1115, 3051, 1682, 1436, 1730, 3018, 1239, 4765, 4855, 4992, 3523, 1830, 4144, 3803, 3741, 3998, 3966, 1573, 3077, 4725, 4544, 1594, 4675, 3575, 4104, 1143, 4351, 4547, 2851, 3934, 4820, 3603, 2745, 4170, 2366, 2767, 2210, 1664, 4487, 3071, 2768, 4585, 3751, 2075, 3797, 1277, 2311, 4345, 2271, 1562, 4418, 4610, 2779, 4246, 2380, 1729, 1893, 3486, 4819, 3445, 4982, 2244, 2272, 3640, 1696, 3770, 4687, 3166, 4761, 2065, 3686, 4390, 3073, 1454, 2525, 4364, 1917, 4733, 3657, 2544, 4856, 1449, 1551, 1081, 4439, 3344, 2816, 2672, 4699, 1435, 1235, 3489, 1140, 3646, 2889, 2229, 2165, 3973, 4273, 1493, 1872, 1320, 2763, 4409, 4344, 2318, 1623, 3495, 2643, 1903, 1466, 4185, 3412, 4916, 2255, 3303, 1295, 2184, 2942, 2932, 4049, 2813, 4175, 1943, 2158, 2492, 4688, 4043, 4361, 4120, 3267, 4807, 3309, 4603, 4178, 1130, 3923, 1379, 2553, 2642, 3539, 2718, 1702, 3841, 1535, 3160, 3195, 1170, 4526, 1937, 4716, 4657, 2592, 1835, 3704, 4744, 3002, 1120, 2135, 4643, 2874, 3519, 1155, 2789, 4640, 3886, 1291, 1097, 4743, 4427, 2606, 2348, 3922, 3224, 3732, 4827, 3778, 2975, 2001, 3389, 4356, 1584, 2657, 2698, 1391, 4031, 2875, 2401, 1063, 2472, 2097, 1353, 3214, 4661, 2652, 4550, 2578, 2599, 1198, 1858, 1404, 4913, 3347, 2108, 1123, 4713, 4051, 3894, 3016, 3236, 1220, 2566, 2370, 1588, 4304, 3738, 2105, 1098, 4999, 1116, 2989, 3701, 4195, 3429, 2430, 2447, 3193, 4269, 3551, 1395, 3398, 1762, 3967, 1197, 1139, 3410, 2648, 3537, 1782, 4379, 1648, 4903, 1171, 3378, 4460, 4783, 1215, 1428, 4825, 4417, 2214, 4966, 4183, 2283, 3717, 2914, 2887, 2479, 2127, 4082, 4205, 2403, 2683, 2723, 3462, 3794, 1408, 2145, 4224, 2352, 1492, 1088, 3133, 2028, 2604, 1309, 2781, 4180, 3897, 4333, 2682, 1363, 4101, 3813, 2513, 3589, 4023, 3079, 4895, 3963, 3264, 3209, 4542, 4942, 4656, 4883, 2102, 1148, 4447, 2897, 4781, 4726, 4893, 4044, 4340, 1678, 4251, 2527, 4735, 4039, 3677, 1238, 3852, 1265, 2277, 2860, 3754, 2232, 3669, 3172, 1798, 3703, 3215, 3062, 1593, 2577, 2661, 2810, 1567, 1174, 1804, 3904, 3424, 2169, 2321, 2240, 1343, 1287, 3057, 2495, 1336, 2446, 2732, 4579, 2328, 3197, 2246, 2540, 3552, 2515, 2545, 3025, 4947, 1590, 1697, 2909, 3268, 3322, 3493, 3960, 2355, 4594, 2466, 4300, 4426, 3767, 3761, 4042, 2910, 2351, 2226, 2801, 1566, 2808, 3769, 1465, 2855, 4762, 4355, 2341, 3680, 1672, 2383, 2391, 2148, 1961, 3617, 3524, 3313, 1883, 3119, 2727, 1209, 2475, 1159, 4130, 1868, 1488, 3697, 1922, 4884, 1743, 2565, 4658, 3709, 4749, 2106, 4400, 4324, 3583, 4614, 2573, 3291, 4963, 3911, 2674, 3350, 4408, 2413, 1360, 4204, 4335, 2725, 1417, 2302, 4242, 1317, 4860, 3762, 4567, 2943, 1249, 3456, 4067, 2051, 2666, 4812, 1759, 2564, 4504, 3830, 4234, 4434, 1650, 1694, 2431, 3628, 1344, 2761, 4490, 2259, 3681, 3348, 2528, 1817, 2765, 4299, 2237, 3447, 4628, 4329, 4925, 2428, 2663, 2980, 3382, 4216, 2132, 3407, 4002, 2873, 2688, 3045, 1813, 4944, 2949, 2092, 4513, 2480, 4303, 1374, 4435, 3294, 3142, 2261, 1527, 1528, 4065, 1476, 4609, 2339, 1714, 4991, 2850, 2020, 4365, 2919, 4314, 3222, 1440, 1169, 1548, 2461, 3608, 1981, 2093, 3905, 4485, 2927, 4066, 2482, 2974, 3246, 3694, 4759, 1438, 4382, 3899, 4933, 1443, 4342, 4685, 2303, 3595, 1595, 1129, 4561, 1038, 4077, 4721, 3529, 2178, 2239, 4836, 2602, 2091, 1051, 4753, 4391, 1018, 1065, 2809, 3687, 4250, 4450, 3512, 3293, 4646, 2925, 3890, 2828, 1859, 3641, 1863, 4140, 2242, 1613, 3435, 1004, 3031, 3554, 3782, 4060, 1194, 1329, 1013, 4362, 3403, 3482, 3149, 3831, 2746, 1442, 1456, 4221, 4456, 1253, 4660, 4814, 2560, 1779, 1822, 1167, 4797, 1036, 3104, 4501, 1424, 4458, 4249, 1384, 3178, 3900, 3698, 2040, 3695, 3566, 4392, 1910, 1781, 4334, 1462, 2432, 1789, 2390, 1162, 4270, 3864, 3131, 1278, 4745, 3219, 2941, 4758, 4589, 3353, 3227, 4233, 2353, 3837, 1268, 4280, 1196, 4306, 2893, 4157, 4943, 4715, 4799, 1052, 1307, 1066, 1860, 1367, 1895, 4505, 3942, 2610, 1161, 3015, 3815, 2991, 2258, 1662, 3516, 3009, 1500, 1311, 4803, 1699, 3115, 3320, 4317, 1561, 3007, 1522, 3613, 4666, 4870, 4432, 1147, 3130, 3656, 1899, 3474, 1069, 2164, 1574, 4900, 4014, 4907, 1544, 3639, 3863, 2470, 4574, 2738, 3977, 4086, 1351, 2340, 2499, 1275, 4698, 2384, 3765, 4872, 2760, 3349, 4110, 3956, 2453, 4559, 2477, 1297, 4747, 2185, 4453, 1005, 4206, 2709, 4494, 4564, 1821, 1248, 3789, 3315, 1165, 1698, 1856, 2336, 4978, 1816, 3184, 4479, 4277, 4201, 1879, 4375, 4832, 1956, 1645, 2440, 3396, 4815, 3084, 4279, 3010, 1473, 2389, 4847, 1569, 1964, 1032, 2538, 2294, 4879, 3232, 3255, 3678, 4376, 2766, 2668, 4852, 3139, 1820, 2076, 3964, 3475, 4464, 4260, 4094, 2967, 1770, 2030, 2933, 1905, 3848, 2134, 1608, 1062, 1941, 2542, 1381, 2535, 3090, 4143, 2463, 4659, 1797, 4182, 2379, 4938, 4670, 4443, 4523, 1659, 4779, 1755, 3722, 3369, 1738, 4243, 3945, 1237, 4020, 2332, 4349, 3825, 3498, 1889, 4679, 4681, 1870, 3189, 2607, 1284, 3957, 1591, 1316, 1054, 2591, 4292, 1003, 2325, 2758, 3692, 2541, 2834, 1554, 4858, 2138, 3054, 2011, 2199, 2806, 2160, 1970, 2715, 3361, 2520, 1832, 1445, 2881, 2137, 2322, 4520, 1009, 1369, 4680, 4510, 2035, 3468, 2557, 2835, 1908, 1146, 2241, 2118, 4563, 1074, 2905, 1529, 2675, 2459, 3882, 2043, 4372, 4036, 1365, 1545, 3530, 2963, 2615, 3259, 1301\n"
     ]
    }
   ],
   "source": [
    "month = 1\n",
    "qualified_users = groc[groc['Month'] == month]['Member_number'].unique()\n",
    "print(f\"Qualified users for month {month}: {', '.join(map(str, qualified_users))}\") "
   ]
  },
  {
   "cell_type": "markdown",
   "id": "762ed486",
   "metadata": {},
   "source": [
    "#### Usage:"
   ]
  },
  {
   "cell_type": "code",
   "execution_count": 207,
   "id": "19dd39c8",
   "metadata": {},
   "outputs": [
    {
     "name": "stdout",
     "output_type": "stream",
     "text": [
      "\n",
      "Recommended products for member 3031 in month 1:\n",
      "1. tropical fruit\n",
      "2. pip fruit\n",
      "3. other vegetables\n",
      "4. rolls/buns\n",
      "5. pot plants\n",
      "6. citrus fruit\n",
      "7. beef\n",
      "8. frankfurter\n",
      "9. chicken\n",
      "10. butter\n"
     ]
    }
   ],
   "source": [
    "member_number = 3031\n",
    "recommendations = get_recommendations(member_number, month)\n",
    "if recommendations:\n",
    "    print(f\"\\nRecommended products for member {member_number} in month {month}:\")\n",
    "    for i, item_description in enumerate(recommendations):\n",
    "        print(f\"{i+1}. {item_description}\")\n",
    "else:\n",
    "    print(f\"No recommendations for member {member_number} in month {month}.\")"
   ]
  },
  {
   "cell_type": "code",
   "execution_count": null,
   "id": "34f5b980",
   "metadata": {},
   "outputs": [],
   "source": []
  }
 ],
 "metadata": {
  "kernelspec": {
   "display_name": "Python 3 (ipykernel)",
   "language": "python",
   "name": "python3"
  },
  "language_info": {
   "codemirror_mode": {
    "name": "ipython",
    "version": 3
   },
   "file_extension": ".py",
   "mimetype": "text/x-python",
   "name": "python",
   "nbconvert_exporter": "python",
   "pygments_lexer": "ipython3",
   "version": "3.11.0"
  }
 },
 "nbformat": 4,
 "nbformat_minor": 5
}
